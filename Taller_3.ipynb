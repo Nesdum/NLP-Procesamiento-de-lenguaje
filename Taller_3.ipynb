{
 "cells": [
  {
   "cell_type": "code",
   "execution_count": 1,
   "id": "dc5702a5",
   "metadata": {},
   "outputs": [
    {
     "name": "stdout",
     "output_type": "stream",
     "text": [
      "Requirement already satisfied: PyMuPDF in c:\\users\\acer\\appdata\\local\\programs\\python\\python313\\lib\\site-packages (1.26.3)\n",
      "Requirement already satisfied: spacy in c:\\users\\acer\\appdata\\local\\programs\\python\\python313\\lib\\site-packages (3.8.7)\n",
      "Requirement already satisfied: nltk in c:\\users\\acer\\appdata\\local\\programs\\python\\python313\\lib\\site-packages (3.9.1)\n",
      "Requirement already satisfied: stanza in c:\\users\\acer\\appdata\\local\\programs\\python\\python313\\lib\\site-packages (1.10.1)\n",
      "Requirement already satisfied: transformers in c:\\users\\acer\\appdata\\local\\programs\\python\\python313\\lib\\site-packages (4.55.2)\n",
      "Requirement already satisfied: spacy-legacy<3.1.0,>=3.0.11 in c:\\users\\acer\\appdata\\local\\programs\\python\\python313\\lib\\site-packages (from spacy) (3.0.12)\n",
      "Requirement already satisfied: spacy-loggers<2.0.0,>=1.0.0 in c:\\users\\acer\\appdata\\local\\programs\\python\\python313\\lib\\site-packages (from spacy) (1.0.5)\n",
      "Requirement already satisfied: murmurhash<1.1.0,>=0.28.0 in c:\\users\\acer\\appdata\\local\\programs\\python\\python313\\lib\\site-packages (from spacy) (1.0.13)\n",
      "Requirement already satisfied: cymem<2.1.0,>=2.0.2 in c:\\users\\acer\\appdata\\local\\programs\\python\\python313\\lib\\site-packages (from spacy) (2.0.11)\n",
      "Requirement already satisfied: preshed<3.1.0,>=3.0.2 in c:\\users\\acer\\appdata\\local\\programs\\python\\python313\\lib\\site-packages (from spacy) (3.0.10)\n",
      "Requirement already satisfied: thinc<8.4.0,>=8.3.4 in c:\\users\\acer\\appdata\\local\\programs\\python\\python313\\lib\\site-packages (from spacy) (8.3.6)\n",
      "Requirement already satisfied: wasabi<1.2.0,>=0.9.1 in c:\\users\\acer\\appdata\\local\\programs\\python\\python313\\lib\\site-packages (from spacy) (1.1.3)\n",
      "Requirement already satisfied: srsly<3.0.0,>=2.4.3 in c:\\users\\acer\\appdata\\local\\programs\\python\\python313\\lib\\site-packages (from spacy) (2.5.1)\n",
      "Requirement already satisfied: catalogue<2.1.0,>=2.0.6 in c:\\users\\acer\\appdata\\local\\programs\\python\\python313\\lib\\site-packages (from spacy) (2.0.10)\n",
      "Requirement already satisfied: weasel<0.5.0,>=0.1.0 in c:\\users\\acer\\appdata\\local\\programs\\python\\python313\\lib\\site-packages (from spacy) (0.4.1)\n",
      "Requirement already satisfied: typer<1.0.0,>=0.3.0 in c:\\users\\acer\\appdata\\local\\programs\\python\\python313\\lib\\site-packages (from spacy) (0.16.0)\n",
      "Requirement already satisfied: tqdm<5.0.0,>=4.38.0 in c:\\users\\acer\\appdata\\local\\programs\\python\\python313\\lib\\site-packages (from spacy) (4.67.1)\n",
      "Requirement already satisfied: numpy>=1.19.0 in c:\\users\\acer\\appdata\\local\\programs\\python\\python313\\lib\\site-packages (from spacy) (2.2.2)\n",
      "Requirement already satisfied: requests<3.0.0,>=2.13.0 in c:\\users\\acer\\appdata\\local\\programs\\python\\python313\\lib\\site-packages (from spacy) (2.32.3)\n",
      "Requirement already satisfied: pydantic!=1.8,!=1.8.1,<3.0.0,>=1.7.4 in c:\\users\\acer\\appdata\\local\\programs\\python\\python313\\lib\\site-packages (from spacy) (2.11.2)\n",
      "Requirement already satisfied: jinja2 in c:\\users\\acer\\appdata\\local\\programs\\python\\python313\\lib\\site-packages (from spacy) (3.1.6)\n",
      "Requirement already satisfied: setuptools in c:\\users\\acer\\appdata\\local\\programs\\python\\python313\\lib\\site-packages (from spacy) (78.1.0)\n",
      "Requirement already satisfied: packaging>=20.0 in c:\\users\\acer\\appdata\\local\\programs\\python\\python313\\lib\\site-packages (from spacy) (24.2)\n",
      "Requirement already satisfied: langcodes<4.0.0,>=3.2.0 in c:\\users\\acer\\appdata\\local\\programs\\python\\python313\\lib\\site-packages (from spacy) (3.5.0)\n",
      "Requirement already satisfied: language-data>=1.2 in c:\\users\\acer\\appdata\\local\\programs\\python\\python313\\lib\\site-packages (from langcodes<4.0.0,>=3.2.0->spacy) (1.3.0)\n",
      "Requirement already satisfied: annotated-types>=0.6.0 in c:\\users\\acer\\appdata\\local\\programs\\python\\python313\\lib\\site-packages (from pydantic!=1.8,!=1.8.1,<3.0.0,>=1.7.4->spacy) (0.7.0)\n",
      "Requirement already satisfied: pydantic-core==2.33.1 in c:\\users\\acer\\appdata\\local\\programs\\python\\python313\\lib\\site-packages (from pydantic!=1.8,!=1.8.1,<3.0.0,>=1.7.4->spacy) (2.33.1)\n",
      "Requirement already satisfied: typing-extensions>=4.12.2 in c:\\users\\acer\\appdata\\local\\programs\\python\\python313\\lib\\site-packages (from pydantic!=1.8,!=1.8.1,<3.0.0,>=1.7.4->spacy) (4.13.0)\n",
      "Requirement already satisfied: typing-inspection>=0.4.0 in c:\\users\\acer\\appdata\\local\\programs\\python\\python313\\lib\\site-packages (from pydantic!=1.8,!=1.8.1,<3.0.0,>=1.7.4->spacy) (0.4.0)\n",
      "Requirement already satisfied: charset-normalizer<4,>=2 in c:\\users\\acer\\appdata\\local\\programs\\python\\python313\\lib\\site-packages (from requests<3.0.0,>=2.13.0->spacy) (3.4.1)\n",
      "Requirement already satisfied: idna<4,>=2.5 in c:\\users\\acer\\appdata\\local\\programs\\python\\python313\\lib\\site-packages (from requests<3.0.0,>=2.13.0->spacy) (3.10)\n",
      "Requirement already satisfied: urllib3<3,>=1.21.1 in c:\\users\\acer\\appdata\\local\\programs\\python\\python313\\lib\\site-packages (from requests<3.0.0,>=2.13.0->spacy) (2.3.0)\n",
      "Requirement already satisfied: certifi>=2017.4.17 in c:\\users\\acer\\appdata\\local\\programs\\python\\python313\\lib\\site-packages (from requests<3.0.0,>=2.13.0->spacy) (2025.1.31)\n",
      "Requirement already satisfied: blis<1.4.0,>=1.3.0 in c:\\users\\acer\\appdata\\local\\programs\\python\\python313\\lib\\site-packages (from thinc<8.4.0,>=8.3.4->spacy) (1.3.0)\n",
      "Requirement already satisfied: confection<1.0.0,>=0.0.1 in c:\\users\\acer\\appdata\\local\\programs\\python\\python313\\lib\\site-packages (from thinc<8.4.0,>=8.3.4->spacy) (0.1.5)\n",
      "Requirement already satisfied: colorama in c:\\users\\acer\\appdata\\local\\programs\\python\\python313\\lib\\site-packages (from tqdm<5.0.0,>=4.38.0->spacy) (0.4.6)\n",
      "Requirement already satisfied: click>=8.0.0 in c:\\users\\acer\\appdata\\local\\programs\\python\\python313\\lib\\site-packages (from typer<1.0.0,>=0.3.0->spacy) (8.1.8)\n",
      "Requirement already satisfied: shellingham>=1.3.0 in c:\\users\\acer\\appdata\\local\\programs\\python\\python313\\lib\\site-packages (from typer<1.0.0,>=0.3.0->spacy) (1.5.4)\n",
      "Requirement already satisfied: rich>=10.11.0 in c:\\users\\acer\\appdata\\local\\programs\\python\\python313\\lib\\site-packages (from typer<1.0.0,>=0.3.0->spacy) (13.9.4)\n",
      "Requirement already satisfied: cloudpathlib<1.0.0,>=0.7.0 in c:\\users\\acer\\appdata\\local\\programs\\python\\python313\\lib\\site-packages (from weasel<0.5.0,>=0.1.0->spacy) (0.21.1)\n",
      "Requirement already satisfied: smart-open<8.0.0,>=5.2.1 in c:\\users\\acer\\appdata\\local\\programs\\python\\python313\\lib\\site-packages (from weasel<0.5.0,>=0.1.0->spacy) (7.3.0.post1)\n",
      "Requirement already satisfied: wrapt in c:\\users\\acer\\appdata\\local\\programs\\python\\python313\\lib\\site-packages (from smart-open<8.0.0,>=5.2.1->weasel<0.5.0,>=0.1.0->spacy) (1.17.2)\n",
      "Requirement already satisfied: joblib in c:\\users\\acer\\appdata\\local\\programs\\python\\python313\\lib\\site-packages (from nltk) (1.4.2)\n",
      "Requirement already satisfied: regex>=2021.8.3 in c:\\users\\acer\\appdata\\local\\programs\\python\\python313\\lib\\site-packages (from nltk) (2025.7.34)\n",
      "Requirement already satisfied: emoji in c:\\users\\acer\\appdata\\local\\programs\\python\\python313\\lib\\site-packages (from stanza) (2.14.1)\n",
      "Requirement already satisfied: protobuf>=3.15.0 in c:\\users\\acer\\appdata\\local\\programs\\python\\python313\\lib\\site-packages (from stanza) (5.29.4)\n",
      "Requirement already satisfied: networkx in c:\\users\\acer\\appdata\\local\\programs\\python\\python313\\lib\\site-packages (from stanza) (3.4.2)\n",
      "Requirement already satisfied: torch>=1.3.0 in c:\\users\\acer\\appdata\\local\\programs\\python\\python313\\lib\\site-packages (from stanza) (2.8.0)\n",
      "Requirement already satisfied: filelock in c:\\users\\acer\\appdata\\local\\programs\\python\\python313\\lib\\site-packages (from transformers) (3.18.0)\n",
      "Requirement already satisfied: huggingface-hub<1.0,>=0.34.0 in c:\\users\\acer\\appdata\\local\\programs\\python\\python313\\lib\\site-packages (from transformers) (0.34.4)\n",
      "Requirement already satisfied: pyyaml>=5.1 in c:\\users\\acer\\appdata\\local\\programs\\python\\python313\\lib\\site-packages (from transformers) (6.0.2)\n",
      "Requirement already satisfied: tokenizers<0.22,>=0.21 in c:\\users\\acer\\appdata\\local\\programs\\python\\python313\\lib\\site-packages (from transformers) (0.21.4)\n",
      "Requirement already satisfied: safetensors>=0.4.3 in c:\\users\\acer\\appdata\\local\\programs\\python\\python313\\lib\\site-packages (from transformers) (0.6.2)\n",
      "Requirement already satisfied: fsspec>=2023.5.0 in c:\\users\\acer\\appdata\\local\\programs\\python\\python313\\lib\\site-packages (from huggingface-hub<1.0,>=0.34.0->transformers) (2025.7.0)\n",
      "Requirement already satisfied: marisa-trie>=1.1.0 in c:\\users\\acer\\appdata\\local\\programs\\python\\python313\\lib\\site-packages (from language-data>=1.2->langcodes<4.0.0,>=3.2.0->spacy) (1.3.0)\n",
      "Requirement already satisfied: markdown-it-py>=2.2.0 in c:\\users\\acer\\appdata\\local\\programs\\python\\python313\\lib\\site-packages (from rich>=10.11.0->typer<1.0.0,>=0.3.0->spacy) (3.0.0)\n",
      "Requirement already satisfied: pygments<3.0.0,>=2.13.0 in c:\\users\\acer\\appdata\\local\\programs\\python\\python313\\lib\\site-packages (from rich>=10.11.0->typer<1.0.0,>=0.3.0->spacy) (2.19.1)\n",
      "Requirement already satisfied: mdurl~=0.1 in c:\\users\\acer\\appdata\\local\\programs\\python\\python313\\lib\\site-packages (from markdown-it-py>=2.2.0->rich>=10.11.0->typer<1.0.0,>=0.3.0->spacy) (0.1.2)\n",
      "Requirement already satisfied: sympy>=1.13.3 in c:\\users\\acer\\appdata\\local\\programs\\python\\python313\\lib\\site-packages (from torch>=1.3.0->stanza) (1.13.3)\n",
      "Requirement already satisfied: mpmath<1.4,>=1.1.0 in c:\\users\\acer\\appdata\\local\\programs\\python\\python313\\lib\\site-packages (from sympy>=1.13.3->torch>=1.3.0->stanza) (1.3.0)\n",
      "Requirement already satisfied: MarkupSafe>=2.0 in c:\\users\\acer\\appdata\\local\\programs\\python\\python313\\lib\\site-packages (from jinja2->spacy) (3.0.2)\n"
     ]
    }
   ],
   "source": [
    "# Instalamos las librerías necesarias (si no están instaladas)\n",
    "!pip install PyMuPDF spacy nltk stanza transformers"
   ]
  },
  {
   "cell_type": "code",
   "execution_count": 2,
   "id": "42b50c38",
   "metadata": {},
   "outputs": [
    {
     "name": "stdout",
     "output_type": "stream",
     "text": [
      "Collecting es-core-news-sm==3.8.0\n",
      "  Downloading https://github.com/explosion/spacy-models/releases/download/es_core_news_sm-3.8.0/es_core_news_sm-3.8.0-py3-none-any.whl (12.9 MB)\n",
      "     ---------------------------------------- 0.0/12.9 MB ? eta -:--:--\n",
      "     ------------------------------- ------- 10.5/12.9 MB 59.4 MB/s eta 0:00:01\n",
      "     ---------------------------------------- 12.9/12.9 MB 55.8 MB/s  0:00:00\n",
      "\u001b[38;5;2m✔ Download and installation successful\u001b[0m\n",
      "You can now load the package via spacy.load('es_core_news_sm')\n"
     ]
    }
   ],
   "source": [
    "!python -m spacy download es_core_news_sm"
   ]
  },
  {
   "cell_type": "code",
   "execution_count": 3,
   "id": "9660ddf2",
   "metadata": {},
   "outputs": [
    {
     "name": "stderr",
     "output_type": "stream",
     "text": [
      "c:\\Users\\ACER\\AppData\\Local\\Programs\\Python\\Python313\\Lib\\site-packages\\tqdm\\auto.py:21: TqdmWarning: IProgress not found. Please update jupyter and ipywidgets. See https://ipywidgets.readthedocs.io/en/stable/user_install.html\n",
      "  from .autonotebook import tqdm as notebook_tqdm\n"
     ]
    }
   ],
   "source": [
    "import fitz  # PyMuPDF para leer PDF\n",
    "import unicodedata\n",
    "import spacy\n",
    "import nltk\n",
    "import stanza\n",
    "from transformers import AutoTokenizer\n",
    "import re\n",
    "import textblob"
   ]
  },
  {
   "cell_type": "code",
   "execution_count": 4,
   "id": "be8d035b",
   "metadata": {},
   "outputs": [
    {
     "name": "stderr",
     "output_type": "stream",
     "text": [
      "[nltk_data] Downloading package punkt to\n",
      "[nltk_data]     C:\\Users\\ACER\\AppData\\Roaming\\nltk_data...\n",
      "[nltk_data]   Package punkt is already up-to-date!\n",
      "Downloading https://raw.githubusercontent.com/stanfordnlp/stanza-resources/main/resources_1.10.0.json: 433kB [00:00, 33.8MB/s]                    \n",
      "2025-08-19 20:07:20 INFO: Downloaded file to C:\\Users\\ACER\\stanza_resources\\resources.json\n",
      "2025-08-19 20:07:20 INFO: Downloading default packages for language: es (Spanish) ...\n",
      "2025-08-19 20:07:22 INFO: File exists: C:\\Users\\ACER\\stanza_resources\\es\\default.zip\n",
      "2025-08-19 20:07:27 INFO: Finished downloading models and saved to C:\\Users\\ACER\\stanza_resources\n",
      "2025-08-19 20:07:27 INFO: Checking for updates to resources.json in case models have been updated.  Note: this behavior can be turned off with download_method=None or download_method=DownloadMethod.REUSE_RESOURCES\n",
      "Downloading https://raw.githubusercontent.com/stanfordnlp/stanza-resources/main/resources_1.10.0.json: 433kB [00:00, 8.24MB/s]                    \n",
      "2025-08-19 20:07:27 INFO: Downloaded file to C:\\Users\\ACER\\stanza_resources\\resources.json\n",
      "2025-08-19 20:07:28 INFO: Loading these models for language: es (Spanish):\n",
      "====================================\n",
      "| Processor    | Package           |\n",
      "------------------------------------\n",
      "| tokenize     | combined          |\n",
      "| mwt          | combined          |\n",
      "| pos          | combined_charlm   |\n",
      "| lemma        | combined_nocharlm |\n",
      "| constituency | combined_charlm   |\n",
      "| depparse     | combined_charlm   |\n",
      "| sentiment    | tass2020_charlm   |\n",
      "| ner          | conll02           |\n",
      "====================================\n",
      "\n",
      "2025-08-19 20:07:28 INFO: Using device: cpu\n",
      "2025-08-19 20:07:28 INFO: Loading: tokenize\n",
      "2025-08-19 20:07:28 INFO: Loading: mwt\n",
      "2025-08-19 20:07:28 INFO: Loading: pos\n",
      "2025-08-19 20:07:30 INFO: Loading: lemma\n",
      "2025-08-19 20:07:32 INFO: Loading: constituency\n",
      "2025-08-19 20:07:32 INFO: Loading: depparse\n",
      "2025-08-19 20:07:33 INFO: Loading: sentiment\n",
      "2025-08-19 20:07:33 INFO: Loading: ner\n",
      "2025-08-19 20:07:35 INFO: Done loading processors!\n"
     ]
    }
   ],
   "source": [
    "# Descargar modelos necesarios\n",
    "nltk.download('punkt')\n",
    "stanza.download('es')\n",
    "nlp_stanza = stanza.Pipeline('es')\n",
    "nlp_spacy = spacy.load('es_core_news_sm')\n",
    "tokenizer_bert = AutoTokenizer.from_pretrained(\"dccuchile/bert-base-spanish-wwm-cased\")"
   ]
  },
  {
   "cell_type": "code",
   "execution_count": 5,
   "id": "44cf4bb9",
   "metadata": {},
   "outputs": [
    {
     "name": "stdout",
     "output_type": "stream",
     "text": [
      "Texto original:\n",
      " ejemplos de ensayos sobre tecnología \n",
      "Por: Dr. Marvin L. Smith \n",
      "Actualizado: 10 de julio de 2024 \n",
      "En el panorama digital actual, en rápida evolución, la capacidad de articular pensamientos \n",
      "sobre el impacto de la tecnología en nuestro mundo es cada vez más importante. Ya sea que \n",
      "sea un estudiante que trabaja en una tarea de clase, un investigador que prepara un artículo o \n",
      "un profesional que elabora un informe, comprender cómo escribir de manera efectiva sobre \n",
      "tecnología con distintas longitud\n"
     ]
    }
   ],
   "source": [
    "# 1. Leer el archivo PDF\n",
    "def leer_pdf(ruta):\n",
    "    with fitz.open(ruta) as doc:\n",
    "        texto = \"\\n\".join([page.get_text(\"text\") for page in doc])\n",
    "    return texto\n",
    "\n",
    "ruta_pdf = \"C:/Users/ACER/OneDrive/Documentos/Analitica de datos/1. Maestria/7. NLP/Clase_3/ejemplos de ensayos sobre tecnología.pdf\"\n",
    "texto = leer_pdf(ruta_pdf)\n",
    "print(\"Texto original:\\n\", texto[:500])"
   ]
  },
  {
   "cell_type": "code",
   "execution_count": 6,
   "id": "a6cb9e6e",
   "metadata": {},
   "outputs": [
    {
     "name": "stdout",
     "output_type": "stream",
     "text": [
      "\n",
      "Texto en minúsculas:\n",
      " ejemplos de ensayos sobre tecnología \n",
      "por: dr. marvin l. smith \n",
      "actualizado: 10 de julio de 2024 \n",
      "en el panorama digital actual, en rápida evolución, la capacidad de articular pensamientos \n",
      "sobre el impacto de la tecnología en nuestro mundo es cada vez más importante. ya sea que \n",
      "sea un estudiante que trabaja en una tarea de clase, un investigador que prepara un artículo o \n",
      "un profesional que elabora un informe, comprender cómo escribir de manera efectiva sobre \n",
      "tecnología con distintas longitud\n"
     ]
    }
   ],
   "source": [
    "# 2. Convertir a minúsculas\n",
    "texto_minusculas = texto.lower()\n",
    "print(\"\\nTexto en minúsculas:\\n\", texto_minusculas[:500])"
   ]
  },
  {
   "cell_type": "code",
   "execution_count": 7,
   "id": "d474a2b2",
   "metadata": {},
   "outputs": [
    {
     "name": "stdout",
     "output_type": "stream",
     "text": [
      "\n",
      "Texto normalizado:\n",
      " ejemplos de ensayos sobre tecnología \n",
      "por: dr. marvin l. smith \n",
      "actualizado: 10 de julio de 2024 \n",
      "en el panorama digital actual, en rápida evolución, la capacidad de articular pensamientos \n",
      "sobre el impacto de la tecnología en nuestro mundo es cada vez más importante. ya sea que \n",
      "sea un estudiante que trabaja en una tarea de clase, un investigador que prepara un artículo o \n",
      "un profesional que elabora un informe, comprender cómo escribir de manera efectiva sobre \n",
      "tecnología con distintas longitud\n"
     ]
    }
   ],
   "source": [
    "# 3. Normalización Unicode (NFC)\n",
    "def normalizar_unicode(texto):\n",
    "    return unicodedata.normalize('NFC', texto)\n",
    "\n",
    "texto_normalizado = normalizar_unicode(texto_minusculas)\n",
    "print(\"\\nTexto normalizado:\\n\", texto_normalizado[:500])"
   ]
  },
  {
   "cell_type": "code",
   "execution_count": 8,
   "id": "2104c7e4",
   "metadata": {},
   "outputs": [
    {
     "name": "stderr",
     "output_type": "stream",
     "text": [
      "[nltk_data] Downloading package punkt to\n",
      "[nltk_data]     C:\\Users\\ACER\\AppData\\Roaming\\nltk_data...\n",
      "[nltk_data]   Package punkt is already up-to-date!\n",
      "[nltk_data] Downloading package spanish_grammars to\n",
      "[nltk_data]     C:\\Users\\ACER\\AppData\\Roaming\\nltk_data...\n",
      "[nltk_data]   Package spanish_grammars is already up-to-date!\n"
     ]
    },
    {
     "data": {
      "text/plain": [
       "True"
      ]
     },
     "execution_count": 8,
     "metadata": {},
     "output_type": "execute_result"
    }
   ],
   "source": [
    "# Download the necessary data for Spanish tokenization\n",
    "nltk.download('punkt')\n",
    "nltk.download('spanish_grammars')"
   ]
  },
  {
   "cell_type": "code",
   "execution_count": 13,
   "id": "a7f2eae8",
   "metadata": {},
   "outputs": [],
   "source": [
    "# 4. Tokenización con diferentes librerías\n",
    "\n",
    "def tokenizar_spacy(texto):\n",
    "    return [token.text for token in nlp_spacy(texto)]\n",
    "\n",
    "def tokenizar_nltk(texto):\n",
    "    return nltk.word_tokenize(texto, language='spanish')\n",
    "\n",
    "def tokenizar_stanza(texto):\n",
    "    doc = nlp_stanza(texto)\n",
    "    return [word.text for sent in doc.sentences for word in sent.words]\n",
    "\n",
    "def tokenizar_bert(texto):\n",
    "    return tokenizer_bert.tokenize(texto)"
   ]
  },
  {
   "cell_type": "code",
   "execution_count": 14,
   "id": "3184dff4",
   "metadata": {},
   "outputs": [
    {
     "name": "stderr",
     "output_type": "stream",
     "text": [
      "Token indices sequence length is longer than the specified maximum sequence length for this model (4127 > 512). Running this sequence through the model will result in indexing errors\n"
     ]
    }
   ],
   "source": [
    "# Aplicamos cada método\n",
    "tokens_spacy = tokenizar_spacy(texto_normalizado)\n",
    "tokens_nltk = tokenizar_nltk(texto_normalizado)\n",
    "tokens_stanza = tokenizar_stanza(texto_normalizado)\n",
    "tokens_bert = tokenizar_bert(texto_normalizado)"
   ]
  },
  {
   "cell_type": "code",
   "execution_count": 15,
   "id": "21c8eb68",
   "metadata": {},
   "outputs": [
    {
     "name": "stderr",
     "output_type": "stream",
     "text": [
      "[nltk_data] Downloading package punkt_tab to\n",
      "[nltk_data]     C:\\Users\\ACER\\AppData\\Roaming\\nltk_data...\n",
      "[nltk_data]   Package punkt_tab is already up-to-date!\n"
     ]
    },
    {
     "data": {
      "text/plain": [
       "True"
      ]
     },
     "execution_count": 15,
     "metadata": {},
     "output_type": "execute_result"
    }
   ],
   "source": [
    "nltk.download('punkt_tab')"
   ]
  },
  {
   "cell_type": "code",
   "execution_count": 16,
   "id": "a8ca6c5e",
   "metadata": {},
   "outputs": [
    {
     "name": "stdout",
     "output_type": "stream",
     "text": [
      "\n",
      "Tokens con SpaCy: ['ejemplos', 'de', 'ensayos', 'sobre', 'tecnología', '\\n', 'por', ':', 'dr', '.', 'marvin', 'l.', 'smith', '\\n', 'actualizado', ':', '10', 'de', 'julio', 'de']\n",
      "\n",
      "Tokens con NLTK: ['ejemplos', 'de', 'ensayos', 'sobre', 'tecnología', 'por', ':', 'dr.', 'marvin', 'l.', 'smith', 'actualizado', ':', '10', 'de', 'julio', 'de', '2024', 'en', 'el']\n",
      "\n",
      "Tokens con Stanza: ['ejemplos', 'de', 'ensayos', 'sobre', 'tecnología', 'por', ':', 'dr.', 'marvin', 'l.', 'smith', 'actualizado', ':', '10', 'de', 'julio', 'de', '2024', 'en', 'el']\n",
      "\n",
      "Tokens con BERT: ['ejemplos', 'de', 'ensayos', 'sobre', 'tecnología', 'por', ':', 'd', '##r', '.', 'mar', '##vin', 'l', '.', 's', '##mith', 'actualizado', ':', '10', 'de']\n"
     ]
    }
   ],
   "source": [
    "# Mostramos los primeros 20 tokens de cada método\n",
    "print(\"\\nTokens con SpaCy:\", tokens_spacy[:20])\n",
    "print(\"\\nTokens con NLTK:\", tokens_nltk[:20])\n",
    "print(\"\\nTokens con Stanza:\", tokens_stanza[:20])\n",
    "print(\"\\nTokens con BERT:\", tokens_bert[:20])"
   ]
  },
  {
   "cell_type": "code",
   "execution_count": 17,
   "id": "d1131a35",
   "metadata": {},
   "outputs": [
    {
     "name": "stdout",
     "output_type": "stream",
     "text": [
      "Se generaron 9 fragmentos de 512 tokens\n"
     ]
    }
   ],
   "source": [
    "tokens_bert = tokenizer_bert.tokenize(texto_normalizado)\n",
    "\n",
    "# Dividimos en fragmentos de 512 tokens\n",
    "max_length = 512\n",
    "chunks = [tokens_bert[i:i+max_length] for i in range(0, len(tokens_bert), max_length)]\n",
    "\n",
    "print(f\"Se generaron {len(chunks)} fragmentos de 512 tokens\")"
   ]
  },
  {
   "cell_type": "code",
   "execution_count": 18,
   "id": "58ac1ead",
   "metadata": {},
   "outputs": [],
   "source": [
    "def tokenizar_bert(texto):\n",
    "    return tokenizer_bert.tokenize(texto)"
   ]
  },
  {
   "cell_type": "code",
   "execution_count": 20,
   "id": "7e4b7e83",
   "metadata": {},
   "outputs": [
    {
     "name": "stdout",
     "output_type": "stream",
     "text": [
      "\n",
      "Tokens con BERT: ['ejemplos', 'de', 'ensayos', 'sobre', 'tecnología', 'por', ':', 'd', '##r', '.', 'mar', '##vin', 'l', '.', 's', '##mith', 'actualizado', ':', '10', 'de', 'julio', 'de', '202', '##4', 'en', 'el', 'panorama', 'digital', 'actual', ',']\n"
     ]
    }
   ],
   "source": [
    "print(\"\\nTokens con BERT:\", tokens_bert[:30])"
   ]
  },
  {
   "cell_type": "code",
   "execution_count": 21,
   "id": "f0a1e0f9",
   "metadata": {},
   "outputs": [
    {
     "name": "stdout",
     "output_type": "stream",
     "text": [
      "\n",
      "Tokens sin stop words (primeros 20): ['ejemplos', 'ensayos', 'tecnología', '\\n', ':', 'dr', '.', 'marvin', 'l.', 'smith', '\\n', 'actualizado', ':', '10', 'julio', '2024', '\\n', 'panorama', 'digital', 'actual']\n"
     ]
    }
   ],
   "source": [
    "# Eliminar stop words usando SpaCy\n",
    "def eliminar_stopwords(tokens, nlp):\n",
    "    return [token for token in tokens if token not in nlp.Defaults.stop_words]\n",
    "\n",
    "tokens_sin_stopwords = eliminar_stopwords(tokens_spacy, nlp_spacy)\n",
    "print(\"\\nTokens sin stop words (primeros 20):\", tokens_sin_stopwords[:20])"
   ]
  },
  {
   "cell_type": "code",
   "execution_count": 22,
   "id": "26cec885",
   "metadata": {},
   "outputs": [
    {
     "name": "stdout",
     "output_type": "stream",
     "text": [
      "Números encontrados en el texto: ['10', '2024', '300', '500', '1000', '300', '500', '1000', '300', '500', '1000', '300', '500', '3', '1000', '3', '42', '2024', '100', '2023', '1736900', '2022', '3', '500', '80', '12', '2024']\n"
     ]
    }
   ],
   "source": [
    "import re\n",
    "\n",
    "# Buscar números en el texto\n",
    "numeros = re.findall(r'\\d+', texto_minusculas)\n",
    "print(\"Números encontrados en el texto:\", numeros)"
   ]
  },
  {
   "cell_type": "code",
   "execution_count": 23,
   "id": "af8085fa",
   "metadata": {},
   "outputs": [
    {
     "name": "stdout",
     "output_type": "stream",
     "text": [
      "Número 1: 10\n",
      "Número 2: 2024\n",
      "Número 3: 300\n",
      "Número 4: 500\n",
      "Número 5: 1000\n",
      "Número 6: 300\n",
      "Número 7: 500\n",
      "Número 8: 1000\n",
      "Número 9: 300\n",
      "Número 10: 500\n",
      "Número 11: 1000\n",
      "Número 12: 300\n",
      "Número 13: 500\n",
      "Número 14: 3\n",
      "Número 15: 1000\n",
      "Número 16: 3\n",
      "Número 17: 42\n",
      "Número 18: 2024\n",
      "Número 19: 100\n",
      "Número 20: 2023\n",
      "Número 21: 1736900\n",
      "Número 22: 2022\n",
      "Número 23: 3\n",
      "Número 24: 500\n",
      "Número 25: 80\n",
      "Número 26: 12\n",
      "Número 27: 2024\n"
     ]
    }
   ],
   "source": [
    "for idx, numero in enumerate(numeros, start=1):\n",
    "    print(f\"Número {idx}: {numero}\")"
   ]
  },
  {
   "cell_type": "code",
   "execution_count": 24,
   "id": "fae3f4d5",
   "metadata": {},
   "outputs": [],
   "source": [
    "# Importamos la librería 're', que es el módulo de expresiones regulares de Python.\n",
    "# No necesita instalación porque viene incluida con el lenguaje.\n",
    "import re\n",
    "\n",
    "# Definimos la función que realizará la tokenización.\n",
    "# Recibe una cadena de texto como entrada.\n",
    "def tokenizar_con_regex_y_numeros(texto_minusculas):\n",
    "    \"\"\"\n",
    "    Esta función tokeniza un texto utilizando una expresión regular\n",
    "    diseñada para separar palabras, números y signos de puntuación.\n",
    "    \"\"\"\n",
    "    \n",
    "    # Definimos el patrón de la expresión regular. Se lee como una serie de \"O\" lógicos (|).\n",
    "    # r'' indica que es una \"raw string\" para que los caracteres como '\\' no se interpreten como secuencias de escape.\n",
    "    # 1. \\d+      : Busca una o más ocurrencias consecutivas de dígitos (números). Esto captura '500', '2025', '10'.\n",
    "    # 2. |         : Actúa como un \"O\".\n",
    "    # 3. [A-Za-zÁ-ú]+ : Busca una o más ocurrencias de letras, tanto mayúsculas como minúsculas.\n",
    "    #                  Incluimos 'Á-ú' para capturar caracteres del español como 'á', 'é', 'í', 'ó', 'ú', 'ñ'.\n",
    "    # 4. |         : Otro \"O\".\n",
    "    # 5. [^\\w\\s]  : Busca cualquier caracter individual que NO sea (\\^) un caracter de palabra (\\w, que incluye letras, números y _)\n",
    "    #                  Y que NO sea (\\^) un espacio en blanco (\\s). Esto nos permite capturar signos de puntuación como '.', ':', '$'.\n",
    "    patron = r'\\d+|[A-Za-zÁ-ú]+|[^\\w\\s]'\n",
    "    \n",
    "    # Utilizamos la función re.findall() para encontrar todas las subcadenas en el texto\n",
    "    # que coincidan con nuestro patrón. Devuelve una lista con todos los hallazgos.\n",
    "    tokens = re.findall(patron, texto_minusculas)\n",
    "    \n",
    "    # La función devuelve la lista de tokens encontrados.\n",
    "    return tokens"
   ]
  },
  {
   "cell_type": "code",
   "execution_count": 25,
   "id": "be34f45c",
   "metadata": {},
   "outputs": [
    {
     "name": "stdout",
     "output_type": "stream",
     "text": [
      "Texto original:\n",
      "ejemplos de ensayos sobre tecnología \n",
      "por: dr. marvin l. smith \n",
      "actualizado: 10 de julio de 2024 \n",
      "en el panorama digital actual, en rápida evolución, la capacidad de articular pensamientos \n",
      "sobre el impacto de la tecnología en nuestro mundo es cada vez más importante. ya sea que \n",
      "sea un estudiante que trabaja en una tarea de clase, un investigador que prepara un artículo o \n",
      "un profesional que elabora un informe, comprender cómo escribir de manera efectiva sobre \n",
      "tecnología con distintas longitudes es una habilidad valiosa. \n",
      "este artículo presenta tres ensayos de muestra sobre el tema de la tecnología, cada uno \n",
      "adaptado a un número específico de palabras: 300, 500 y 1000 palabras. estos ensayos \n",
      "sirven como modelos para demostrar cómo un mismo tema puede abordarse con diferentes \n",
      "niveles de profundidad y detalle, dependiendo de la extensión requerida. \n",
      "el ensayo de 300 palabras ofrece una descripción general concisa y aborda puntos clave \n",
      "sobre la influencia de la tecnología en nuestras vidas. la versión de 500 palabras permite una \n",
      "exploración más detallada de estos temas, mientras que el ensayo de 1000 palabras \n",
      "proporciona un análisis exhaustivo, profundizando en aspectos matizados del impacto de la \n",
      "tecnología en varios sectores. \n",
      "al examinar estas muestras, los lectores pueden obtener información sobre la estructura \n",
      "eficaz de un ensayo, el arte de escalar el contenido para cumplir con los requisitos de \n",
      "recuento de palabras y las técnicas para mantener la coherencia y la profundidad en \n",
      "diferentes longitudes. ya sea que desee elaborar un breve resumen o un análisis en \n",
      "profundidad, estos ejemplos lo guiarán para articular sus pensamientos sobre el papel de la \n",
      "tecnología en la configuración de nuestro presente y futuro. \n",
      "a medida que lea estos ensayos de muestra, preste atención a cómo se introducen, \n",
      "desarrollan y concluyen las ideas en cada extensión. observe cómo se incorporan detalles, \n",
      "ejemplos y perspectivas adicionales a medida que aumenta el número de palabras, lo que \n",
      "proporciona una hoja de ruta para sus propios esfuerzos de escritura sobre este tema \n",
      "siempre relevante. \n",
      "ejemplo de ensayo sobre tecnología (300, 500 y 1000 palabras) \n",
      "los siguientes son tres ensayos de muestra sobre tecnología, cada uno elaborado para \n",
      "demostrar una escritura eficaz en diferentes longitudes \n",
      "tecnología: dando forma a nuestro presente y futuro (300 palabras) \n",
      "la tecnología se ha convertido en una parte integral de nuestra vida diaria, revolucionando la \n",
      "forma en que trabajamos, nos comunicamos e interactuamos con el mundo que nos rodea. \n",
      "desde los teléfonos inteligentes hasta la inteligencia artificial, los avances tecnológicos han \n",
      "transformado casi todos los aspectos de la sociedad, generando oportunidades sin \n",
      "precedentes y desafíos complejos. \n",
      " \n",
      "\n",
      "uno de los impactos más significativos de la tecnología está en el ámbito de la \n",
      "comunicación. internet y los dispositivos móviles han hecho posible conectarse \n",
      "instantáneamente con personas de todo el mundo, rompiendo barreras geográficas y \n",
      "fomentando la colaboración global. las plataformas de redes sociales han cambiado la \n",
      "forma en que compartimos información y mantenemos relaciones, aunque también plantean \n",
      "preocupaciones sobre la privacidad y la difusión de información errónea. \n",
      "en el lugar de trabajo, la tecnología ha aumentado drásticamente la productividad y la \n",
      "eficiencia. la automatización y la inteligencia artificial están agilizando los procesos y \n",
      "permitiendo a las empresas operar a escala global. sin embargo, estos avances también \n",
      "plantean preguntas sobre el desplazamiento laboral y la necesidad de que los trabajadores \n",
      "adapten continuamente sus habilidades para seguir siendo relevantes en un mercado laboral \n",
      "en evolución. \n",
      "la educación ha sido transformada por la tecnología, con plataformas de aprendizaje en \n",
      "línea y recursos digitales que hacen que el conocimiento sea más accesible que nunca. los \n",
      "estudiantes ahora pueden acceder a una gran cantidad de información a su alcance, \n",
      "colaborar en proyectos de forma remota e interactuar con herramientas de aprendizaje \n",
      "interactivas que se adaptan a diversos estilos de aprendizaje. \n",
      "si bien los beneficios de la tecnología son numerosos, también presenta desafíos. \n",
      "cuestiones como las amenazas a la ciberseguridad, la adicción digital y el impacto ambiental \n",
      "de los residuos electrónicos requieren una consideración cuidadosa y soluciones proactivas. \n",
      "al mirar hacia el futuro, tecnologías emergentes como la computación cuántica, la \n",
      "biotecnología y la exploración espacial prometen ampliar aún más los límites de los logros \n",
      "humanos. es fundamental que abordemos estos avances con un equilibrio entre entusiasmo \n",
      "y consideración ética, garantizando que la tecnología siga sirviendo a los mejores intereses \n",
      "de la humanidad y al mismo tiempo mitigando los riesgos potenciales. \n",
      "tecnología: transformando nuestro mundo (500 palabras) \n",
      "en el siglo xxi, la tecnología se ha convertido en la fuerza impulsora detrás de cambios sin \n",
      "precedentes en la sociedad humana. desde la forma en que nos comunicamos y trabajamos \n",
      "hasta cómo aprendemos y nos entretenemos, los avances tecnológicos han transformado \n",
      "casi todas las facetas de nuestras vidas. esta revolución digital trae consigo una gran \n",
      "cantidad de oportunidades y desafíos que evolucionan continuamente a medida que la \n",
      "innovación avanza a un ritmo cada vez mayor. \n",
      "uno de los impactos más profundos de la tecnología está en el ámbito de la comunicación. \n",
      "internet, junto con los dispositivos móviles, ha creado un mundo conectado globalmente \n",
      "donde la información fluye libremente a través de las fronteras. las plataformas de redes \n",
      "sociales han revolucionado la forma en que compartimos experiencias, expresamos \n",
      "opiniones y mantenemos relaciones. si bien esta interconexión ha fomentado la \n",
      "colaboración global y el intercambio cultural, también plantea preocupaciones sobre la \n",
      "privacidad, la difusión de información errónea y la posibilidad de que la tecnología exacerbe \n",
      "las divisiones sociales. \n",
      "\n",
      "en el lugar de trabajo, la tecnología ha aumentado drásticamente la productividad y la \n",
      "eficiencia. la automatización y la inteligencia artificial están agilizando los procesos, \n",
      "permitiendo a las empresas operar a escala global con una velocidad y precisión sin \n",
      "precedentes. la computación en la nube ha hecho posible que los equipos colaboren sin \n",
      "problemas a grandes distancias, mientras que el análisis de datos proporciona información \n",
      "que impulsa la toma de decisiones informadas. sin embargo, estos avances también \n",
      "plantean preguntas sobre el desplazamiento laboral y la necesidad de que los trabajadores \n",
      "adapten continuamente sus habilidades para seguir siendo relevantes en un mercado laboral \n",
      "en evolución. \n",
      "el campo de la educación ha sido transformado por la tecnología, con plataformas de \n",
      "aprendizaje en línea y recursos digitales que hacen que el conocimiento sea más accesible \n",
      "que nunca. los estudiantes ahora pueden acceder a una gran cantidad de información a su \n",
      "alcance, interactuar con herramientas de aprendizaje interactivas y participar en aulas \n",
      "virtuales que trascienden las fronteras geográficas. esta democratización de la educación \n",
      "tiene el potencial de reducir las desigualdades y brindar oportunidades para el aprendizaje \n",
      "permanente. \n",
      "la salud es otro sector que vive una revolución tecnológica. la telemedicina, los dispositivos \n",
      "portátiles y los diagnósticos asistidos por ia están mejorando la atención al paciente y \n",
      "haciendo que la atención médica sea más accesible. la ingeniería genética y la medicina \n",
      "personalizada prometen revolucionar los enfoques de tratamiento, mientras que la \n",
      "tecnología de impresión 3d está abriendo nuevas posibilidades en prótesis y trasplantes de \n",
      "órganos. \n",
      "la industria del entretenimiento ha sido radicalmente alterada por la tecnología, con \n",
      "servicios de transmisión, realidad virtual y realidad aumentada que ofrecen experiencias \n",
      "inmersivas que difuminan las líneas entre los mundos digital y físico. los juegos se han \n",
      "convertido en una industria multimillonaria, con competiciones de deportes electrónicos que \n",
      "atraen a millones de espectadores en todo el mundo. \n",
      "si bien los beneficios de la tecnología son numerosos, también presenta desafíos \n",
      "importantes. las amenazas a la ciberseguridad se han vuelto cada vez más sofisticadas y \n",
      "plantean riesgos para las personas, las empresas y la seguridad nacional. la cuestión de la \n",
      "adicción digital, particularmente entre las generaciones más jóvenes, plantea \n",
      "preocupaciones sobre la salud mental y el desarrollo social. además, el rápido ritmo del \n",
      "cambio tecnológico a menudo supera los marcos regulatorios, creando dilemas éticos en \n",
      "áreas como la privacidad de datos, el desarrollo de ia y la biotecnología. \n",
      "el impacto ambiental de la tecnología es otra consideración crítica. si bien las innovaciones \n",
      "en energía renovable y diseño de ciudades inteligentes ofrecen esperanzas de un futuro más \n",
      "sostenible, la producción y eliminación de dispositivos electrónicos contribuyen \n",
      "significativamente a la contaminación y al agotamiento de los recursos. \n",
      "al mirar hacia el futuro, tecnologías emergentes como la computación cuántica, la \n",
      "nanotecnología y la exploración espacial prometen ampliar aún más los límites de los logros \n",
      "humanos. es fundamental que abordemos estos avances con un equilibrio entre entusiasmo \n",
      "\n",
      "y consideración ética, garantizando que la tecnología siga sirviendo a los mejores intereses \n",
      "de la humanidad y al mismo tiempo mitigando los riesgos potenciales. \n",
      "en conclusión, el papel de la tecnología en la configuración de nuestro mundo es innegable e \n",
      "irreversible. a medida que navegamos por esta era digital, es esencial aprovechar el poder de \n",
      "la innovación de manera responsable, abordar los desafíos de manera proactiva y trabajar \n",
      "hacia un futuro en el que la tecnología mejore el potencial humano y contribuya al bien \n",
      "común de la sociedad. \n",
      "tecnología: revolucionando nuestro mundo y dando forma a nuestro futuro (1000 palabras) \n",
      "en el panorama en rápida evolución del siglo xxi, la tecnología se erige como la piedra \n",
      "angular de un cambio sin precedentes que está transformando el tejido mismo de la \n",
      "sociedad humana. desde los teléfonos inteligentes en nuestros bolsillos hasta las industrias \n",
      "que impulsan la inteligencia artificial, los avances tecnológicos han permeado todos los \n",
      "aspectos de nuestras vidas, transformando la forma en que nos comunicamos, trabajamos, \n",
      "aprendemos e interactuamos con el mundo que nos rodea. esta revolución digital trae \n",
      "consigo un complejo tapiz de oportunidades y desafíos, que evolucionan continuamente a \n",
      "medida que la innovación avanza a un ritmo cada vez más acelerado. \n",
      "quizás el impacto más visible de la tecnología esté en el ámbito de la comunicación. \n",
      "internet, junto con los dispositivos móviles, ha creado un mundo conectado globalmente \n",
      "donde la información fluye libremente a través de las fronteras a la velocidad de la luz. las \n",
      "plataformas de redes sociales han revolucionado la forma en que compartimos experiencias, \n",
      "expresamos opiniones y mantenemos relaciones, reduciendo efectivamente el mundo a una \n",
      "aldea global. esta interconexión ha fomentado niveles sin precedentes de colaboración \n",
      "global, intercambio cultural y rápida difusión de ideas. \n",
      "sin embargo, esta revolución de la comunicación no está exenta de inconvenientes. la \n",
      "facilidad para compartir información también ha facilitado la difusión de información errónea \n",
      "y “noticias falsas”, desafiando nuestra capacidad de discernir la verdad de la ficción. las \n",
      "preocupaciones sobre la privacidad han pasado a primer plano a medida que los datos \n",
      "personales se convierten en un bien valioso, a menudo recopilado y explotado tanto por \n",
      "corporaciones como por actores maliciosos. la naturaleza adictiva de las plataformas de \n",
      "redes sociales plantea interrogantes sobre su impacto en la salud mental, particularmente \n",
      "entre las generaciones más jóvenes. \n",
      "en el ámbito profesional, la tecnología ha aumentado drásticamente la productividad y la \n",
      "eficiencia, transformando la naturaleza misma del trabajo. la automatización y la inteligencia \n",
      "artificial están agilizando los procesos, permitiendo a las empresas operar a escala global \n",
      "con una velocidad y precisión sin precedentes. la computación en la nube ha hecho posible \n",
      "que los equipos colaboren sin problemas a grandes distancias, mientras que el análisis de \n",
      "datos proporciona información que impulsa la toma de decisiones informadas. \n",
      "el auge del trabajo remoto, acelerado por los recientes acontecimientos mundiales, ha \n",
      "demostrado el potencial de la tecnología para redefinir las estructuras de trabajo \n",
      "tradicionales. las reuniones virtuales, el software colaborativo y las redes seguras han hecho \n",
      "\n",
      "posible que muchos trabajen desde cualquier lugar, lo que potencialmente ha remodelado \n",
      "los paisajes urbanos y los patrones de desplazamiento. \n",
      "sin embargo, estos avances también plantean preguntas críticas sobre el futuro del empleo. \n",
      "a medida que la automatización y la ia continúan evolucionando, las preocupaciones sobre \n",
      "el desplazamiento laboral cobran gran importancia. la necesidad de que los trabajadores \n",
      "adapten continuamente sus habilidades para seguir siendo relevantes en un mercado laboral \n",
      "en evolución nunca ha sido más apremiante, lo que resalta la importancia del aprendizaje \n",
      "permanente y la adaptabilidad en la fuerza laboral moderna. \n",
      "el campo de la educación ha sido profundamente transformado por la tecnología, con \n",
      "plataformas de aprendizaje en línea y recursos digitales que hacen que el conocimiento sea \n",
      "más accesible que nunca. los estudiantes ahora pueden acceder a una gran cantidad de \n",
      "información a su alcance, interactuar con herramientas de aprendizaje interactivas y \n",
      "participar en aulas virtuales que trascienden las fronteras geográficas. esta democratización \n",
      "de la educación tiene el potencial de reducir las desigualdades y brindar oportunidades de \n",
      "aprendizaje permanente a personas de todas las edades y orígenes. \n",
      "las tecnologías de aprendizaje adaptativo, impulsadas por ia, están personalizando la \n",
      "educación para satisfacer las necesidades individuales de los estudiantes, revolucionando \n",
      "potencialmente la forma en que abordamos la enseñanza y el aprendizaje. las tecnologías de \n",
      "realidad virtual y aumentada están creando experiencias de aprendizaje inmersivas, dando \n",
      "vida a conceptos abstractos y mejorando la participación. \n",
      "sin embargo, la brecha digital sigue siendo un desafío importante, y las disparidades en el \n",
      "acceso a la tecnología y a internet de alta velocidad pueden exacerbar las desigualdades \n",
      "educativas. además, el cambio hacia el aprendizaje digital plantea interrogantes sobre los \n",
      "aspectos sociales y emocionales de la educación que tradicionalmente se fomentan en las \n",
      "aulas físicas. \n",
      "el sector sanitario está experimentando una revolución tecnológica que promete transformar \n",
      "la atención al paciente y la investigación médica. la telemedicina ha hecho que la atención \n",
      "sanitaria sea más accesible, permitiendo a los pacientes consultar con los médicos de forma \n",
      "remota. los dispositivos portátiles y los sensores de iot están permitiendo un monitoreo \n",
      "continuo de la salud, cambiando el enfoque de la atención reactiva a la preventiva. los \n",
      "diagnósticos asistidos por ia están mejorando la precisión y la velocidad de la detección de \n",
      "enfermedades, mientras que la cirugía robótica está mejorando la precisión en \n",
      "procedimientos complejos. \n",
      "la ingeniería genética y la medicina personalizada están abriendo nuevas fronteras en los \n",
      "enfoques de tratamiento, adaptando las terapias a los perfiles genéticos individuales. la \n",
      "tecnología de impresión 3d está creando nuevas posibilidades en prótesis, implantes e \n",
      "incluso trasplantes de órganos. el uso de big data en la atención sanitaria está facilitando la \n",
      "investigación médica a gran escala, acelerando potencialmente el descubrimiento de nuevos \n",
      "tratamientos y curas. \n",
      " \n",
      "\n",
      "sin embargo, estos avances también plantean preocupaciones éticas, particularmente con \n",
      "respecto a la privacidad de los datos, la distribución equitativa de estas tecnologías y el \n",
      "potencial de discriminación genética. la integración de la ia en la toma de decisiones en \n",
      "materia de atención sanitaria también plantea interrogantes sobre la rendición de cuentas y \n",
      "el papel del juicio humano en la atención médica. \n",
      "la industria del entretenimiento ha sido radicalmente alterada por la tecnología, con \n",
      "servicios de transmisión, realidad virtual y realidad aumentada que ofrecen experiencias \n",
      "inmersivas que difuminan las líneas entre los mundos digital y físico. el auge del contenido \n",
      "bajo demanda ha cambiado los hábitos de visualización y ha desafiado los modelos de \n",
      "medios tradicionales. los juegos se han convertido en una industria multimillonaria, con \n",
      "competiciones de deportes electrónicos que atraen a millones de espectadores en todo el \n",
      "mundo y mundos virtuales cada vez más sofisticados. \n",
      "los influencers de las redes sociales y el contenido generado por los usuarios han \n",
      "democratizado la creación de contenido, permitiendo a las personas llegar a audiencias \n",
      "globales. sin embargo, este cambio también ha suscitado preocupaciones sobre la calidad \n",
      "del contenido, los derechos de propiedad intelectual y el impacto de la disponibilidad \n",
      "constante de entretenimiento en la productividad y la salud mental. \n",
      "si bien la tecnología ofrece soluciones a muchos desafíos ambientales, también presenta su \n",
      "propio conjunto de preocupaciones ambientales. las innovaciones en energía renovable, \n",
      "sistemas de redes inteligentes y dispositivos energéticamente eficientes son cruciales en la \n",
      "lucha contra el cambio climático. las tecnologías de ciudades inteligentes prometen \n",
      "optimizar el uso de recursos y reducir la huella ambiental urbana. \n",
      "sin embargo, la producción y eliminación de dispositivos electrónicos contribuyen \n",
      "significativamente a la contaminación y al agotamiento de los recursos. el consumo \n",
      "energético de los centros de datos y las tecnologías blockchain plantea interrogantes sobre la \n",
      "sostenibilidad de nuestra infraestructura digital. equilibrar el progreso tecnológico con la \n",
      "gestión ambiental sigue siendo un desafío crítico para las próximas décadas. \n",
      "a medida que la tecnología continúa avanzando a un ritmo rápido, a menudo supera nuestra \n",
      "capacidad para comprenderla completamente implicaciones o desarrollar marcos \n",
      "regulatorios apropiados. los dilemas éticos abundan en áreas como el desarrollo de la ia, la \n",
      "privacidad de los datos, la biotecnología y el uso de la tecnología en la guerra. el potencial de \n",
      "la tecnología para exacerbar las desigualdades sociales o utilizarse para vigilancia y control \n",
      "plantea preguntas importantes sobre la dinámica del poder en la era digital. \n",
      "de cara al futuro, las tecnologías emergentes como la computación cuántica, la \n",
      "nanotecnología y la exploración espacial prometen ampliar aún más los límites de los logros \n",
      "humanos. el potencial de estas tecnologías para resolver desafíos globales, desde el cambio \n",
      "climático hasta las enfermedades, es inmenso. sin embargo, también conllevan riesgos que \n",
      "deben gestionarse con cuidado. \n",
      " \n",
      "\n",
      "a medida que navegamos por esta era digital, queda claro que el papel de la tecnología en la \n",
      "configuración de nuestro mundo es innegable e irreversible. los desafíos que enfrentamos \n",
      "son complejos y multifacéticos y requieren una consideración reflexiva y soluciones \n",
      "proactivas. es fundamental que abordemos los avances tecnológicos con un equilibrio entre \n",
      "entusiasmo y consideración ética, garantizando que la innovación sirva a los mejores \n",
      "intereses de la humanidad y mitigando al mismo tiempo los riesgos potenciales. \n",
      " \n",
      "el futuro que creemos dependerá de nuestra capacidad para aprovechar el poder de la \n",
      "tecnología de manera responsable, abordar los desafíos de frente y trabajar hacia un mundo \n",
      "donde el progreso tecnológico mejore el potencial humano y contribuya al bien común de la \n",
      "sociedad. mientras nos encontramos al borde de nuevas fronteras tecnológicas, nuestras \n",
      "decisiones de hoy darán forma al mundo del mañana, por lo que es imperativo que \n",
      "procedamos con sabiduría, previsión y compromiso con el bienestar de todos. \n",
      "los datos de downdetector son auto-reportados, lo que significa que no representan \n",
      "completamente la magnitud de la interrupción. cnn se comunicó con x, aunque la \n",
      "compañía generalmente no responde a consultas de prensa. \n",
      " \n",
      "musk publicó en x que cree que “un gran grupo coordinado y/o un país está involucrado”, \n",
      "aunque no se confirmó la fuente de motivación detrás del ataque. musk también respondió \n",
      "“sí” a una publicación en x que sugiere que las personas están tratando de silenciar al \n",
      "multimillonario y su plataforma, aunque no se han revelado más detalles sobre la \n",
      "interrupción del servicio, incluyendo si fue causada por un ataque dirigido. \n",
      " \n",
      "eric noonan, ceo del proveedor de ciberseguridad cybersheath, dijo a cnn que es probable \n",
      "que sea demasiado pronto para determinar si un ataque causó los problemas. \n",
      " \n",
      "“una de las cosas que siempre debe tomarse con precaución es cualquier declaración hecha \n",
      "en el corto plazo, inmediatamente después, o incluso en este caso durante un ataque”, dijo \n",
      "noonan. \n",
      " \n",
      "musk tiene un historial de atribuir fallos técnicos a ciberataques. cuando su conversación \n",
      "con donald trump en x comenzó 42 minutos tarde en agosto de 2024, dijo que había una \n",
      "“probabilidad” de que se debiera a un ataque. \n",
      " \n",
      "“dada la prominencia de esta conversación, por supuesto que había una probabilidad del \n",
      "100% de ataques ddos”, publicó musk en la plataforma de redes sociales en ese momento. \n",
      "ddos significa “denegación de servicio distribuida”, que implica abrumar los servidores con \n",
      "\n",
      "tráfico falso para causar interrupciones en el servicio. sin embargo, el anuncio de la campaña \n",
      "presidencial del gobernador de florida, ron desantis, en x en 2023 también se vio empañado \n",
      "por dificultades técnicas. \n",
      " \n",
      "cnne 1736900 - donald trump \n",
      "artículo relacionado \n",
      "trump y musk mantienen conversación amistosa en x tras retraso por dificultades técnicas \n",
      " \n",
      "los ataques de ransomware han sido más comunes que los ataques ddos en los últimos \n",
      "años porque suelen estar motivados financieramente, según noonan. ddos, sin embargo, se \n",
      "utiliza típicamente para causar una interrupción, lo que también dificulta confirmar la fuente \n",
      "de este tipo de ataques. \n",
      " \n",
      "musk implementó recortes generalizados y cambios importantes en x después de adquirir la \n",
      "popular plataforma de redes sociales, entonces llamada twitter, en 2022. inmediatamente \n",
      "despidió a altos ejecutivos y, en cuestión de días después de comprar x, despidió a 3.500 \n",
      "personas, o alrededor de la mitad de la fuerza laboral de la plataforma. despidió al 80% del \n",
      "personal en total y exigió que los empleados restantes regresaran a la oficina a tiempo \n",
      "completo. \n",
      " \n",
      "la plataforma ha experimentado una serie de fallas e interrupciones desde la compra. \n",
      " \n",
      "ha sido un día difícil para los negocios de musk, quien también es el jefe del departamento \n",
      "de eficiencia gubernamental de trump (doge, por sus siglas en inglés). este lunes, las \n",
      "acciones de tesla cayeron hasta un 12% en las operaciones del mediodía, borrando sus \n",
      "ganancias desde la elección de trump en noviembre de 2024. \n",
      "\n",
      "\n",
      "Tokens generados (3755 tokens):\n",
      "['ejemplos', 'de', 'ensayos', 'sobre', 'tecnología', 'por', ':', 'dr', '.', 'marvin', 'l', '.', 'smith', 'actualizado', ':', '10', 'de', 'julio', 'de', '2024', 'en', 'el', 'panorama', 'digital', 'actual', ',', 'en', 'rápida', 'evolución', ',', 'la', 'capacidad', 'de', 'articular', 'pensamientos', 'sobre', 'el', 'impacto', 'de', 'la', 'tecnología', 'en', 'nuestro', 'mundo', 'es', 'cada', 'vez', 'más', 'importante', '.', 'ya', 'sea', 'que', 'sea', 'un', 'estudiante', 'que', 'trabaja', 'en', 'una', 'tarea', 'de', 'clase', ',', 'un', 'investigador', 'que', 'prepara', 'un', 'artículo', 'o', 'un', 'profesional', 'que', 'elabora', 'un', 'informe', ',', 'comprender', 'cómo', 'escribir', 'de', 'manera', 'efectiva', 'sobre', 'tecnología', 'con', 'distintas', 'longitudes', 'es', 'una', 'habilidad', 'valiosa', '.', 'este', 'artículo', 'presenta', 'tres', 'ensayos', 'de', 'muestra', 'sobre', 'el', 'tema', 'de', 'la', 'tecnología', ',', 'cada', 'uno', 'adaptado', 'a', 'un', 'número', 'específico', 'de', 'palabras', ':', '300', ',', '500', 'y', '1000', 'palabras', '.', 'estos', 'ensayos', 'sirven', 'como', 'modelos', 'para', 'demostrar', 'cómo', 'un', 'mismo', 'tema', 'puede', 'abordarse', 'con', 'diferentes', 'niveles', 'de', 'profundidad', 'y', 'detalle', ',', 'dependiendo', 'de', 'la', 'extensión', 'requerida', '.', 'el', 'ensayo', 'de', '300', 'palabras', 'ofrece', 'una', 'descripción', 'general', 'concisa', 'y', 'aborda', 'puntos', 'clave', 'sobre', 'la', 'influencia', 'de', 'la', 'tecnología', 'en', 'nuestras', 'vidas', '.', 'la', 'versión', 'de', '500', 'palabras', 'permite', 'una', 'exploración', 'más', 'detallada', 'de', 'estos', 'temas', ',', 'mientras', 'que', 'el', 'ensayo', 'de', '1000', 'palabras', 'proporciona', 'un', 'análisis', 'exhaustivo', ',', 'profundizando', 'en', 'aspectos', 'matizados', 'del', 'impacto', 'de', 'la', 'tecnología', 'en', 'varios', 'sectores', '.', 'al', 'examinar', 'estas', 'muestras', ',', 'los', 'lectores', 'pueden', 'obtener', 'información', 'sobre', 'la', 'estructura', 'eficaz', 'de', 'un', 'ensayo', ',', 'el', 'arte', 'de', 'escalar', 'el', 'contenido', 'para', 'cumplir', 'con', 'los', 'requisitos', 'de', 'recuento', 'de', 'palabras', 'y', 'las', 'técnicas', 'para', 'mantener', 'la', 'coherencia', 'y', 'la', 'profundidad', 'en', 'diferentes', 'longitudes', '.', 'ya', 'sea', 'que', 'desee', 'elaborar', 'un', 'breve', 'resumen', 'o', 'un', 'análisis', 'en', 'profundidad', ',', 'estos', 'ejemplos', 'lo', 'guiarán', 'para', 'articular', 'sus', 'pensamientos', 'sobre', 'el', 'papel', 'de', 'la', 'tecnología', 'en', 'la', 'configuración', 'de', 'nuestro', 'presente', 'y', 'futuro', '.', 'a', 'medida', 'que', 'lea', 'estos', 'ensayos', 'de', 'muestra', ',', 'preste', 'atención', 'a', 'cómo', 'se', 'introducen', ',', 'desarrollan', 'y', 'concluyen', 'las', 'ideas', 'en', 'cada', 'extensión', '.', 'observe', 'cómo', 'se', 'incorporan', 'detalles', ',', 'ejemplos', 'y', 'perspectivas', 'adicionales', 'a', 'medida', 'que', 'aumenta', 'el', 'número', 'de', 'palabras', ',', 'lo', 'que', 'proporciona', 'una', 'hoja', 'de', 'ruta', 'para', 'sus', 'propios', 'esfuerzos', 'de', 'escritura', 'sobre', 'este', 'tema', 'siempre', 'relevante', '.', 'ejemplo', 'de', 'ensayo', 'sobre', 'tecnología', '(', '300', ',', '500', 'y', '1000', 'palabras', ')', 'los', 'siguientes', 'son', 'tres', 'ensayos', 'de', 'muestra', 'sobre', 'tecnología', ',', 'cada', 'uno', 'elaborado', 'para', 'demostrar', 'una', 'escritura', 'eficaz', 'en', 'diferentes', 'longitudes', 'tecnología', ':', 'dando', 'forma', 'a', 'nuestro', 'presente', 'y', 'futuro', '(', '300', 'palabras', ')', 'la', 'tecnología', 'se', 'ha', 'convertido', 'en', 'una', 'parte', 'integral', 'de', 'nuestra', 'vida', 'diaria', ',', 'revolucionando', 'la', 'forma', 'en', 'que', 'trabajamos', ',', 'nos', 'comunicamos', 'e', 'interactuamos', 'con', 'el', 'mundo', 'que', 'nos', 'rodea', '.', 'desde', 'los', 'teléfonos', 'inteligentes', 'hasta', 'la', 'inteligencia', 'artificial', ',', 'los', 'avances', 'tecnológicos', 'han', 'transformado', 'casi', 'todos', 'los', 'aspectos', 'de', 'la', 'sociedad', ',', 'generando', 'oportunidades', 'sin', 'precedentes', 'y', 'desafíos', 'complejos', '.', 'uno', 'de', 'los', 'impactos', 'más', 'significativos', 'de', 'la', 'tecnología', 'está', 'en', 'el', 'ámbito', 'de', 'la', 'comunicación', '.', 'internet', 'y', 'los', 'dispositivos', 'móviles', 'han', 'hecho', 'posible', 'conectarse', 'instantáneamente', 'con', 'personas', 'de', 'todo', 'el', 'mundo', ',', 'rompiendo', 'barreras', 'geográficas', 'y', 'fomentando', 'la', 'colaboración', 'global', '.', 'las', 'plataformas', 'de', 'redes', 'sociales', 'han', 'cambiado', 'la', 'forma', 'en', 'que', 'compartimos', 'información', 'y', 'mantenemos', 'relaciones', ',', 'aunque', 'también', 'plantean', 'preocupaciones', 'sobre', 'la', 'privacidad', 'y', 'la', 'difusión', 'de', 'información', 'errónea', '.', 'en', 'el', 'lugar', 'de', 'trabajo', ',', 'la', 'tecnología', 'ha', 'aumentado', 'drásticamente', 'la', 'productividad', 'y', 'la', 'eficiencia', '.', 'la', 'automatización', 'y', 'la', 'inteligencia', 'artificial', 'están', 'agilizando', 'los', 'procesos', 'y', 'permitiendo', 'a', 'las', 'empresas', 'operar', 'a', 'escala', 'global', '.', 'sin', 'embargo', ',', 'estos', 'avances', 'también', 'plantean', 'preguntas', 'sobre', 'el', 'desplazamiento', 'laboral', 'y', 'la', 'necesidad', 'de', 'que', 'los', 'trabajadores', 'adapten', 'continuamente', 'sus', 'habilidades', 'para', 'seguir', 'siendo', 'relevantes', 'en', 'un', 'mercado', 'laboral', 'en', 'evolución', '.', 'la', 'educación', 'ha', 'sido', 'transformada', 'por', 'la', 'tecnología', ',', 'con', 'plataformas', 'de', 'aprendizaje', 'en', 'línea', 'y', 'recursos', 'digitales', 'que', 'hacen', 'que', 'el', 'conocimiento', 'sea', 'más', 'accesible', 'que', 'nunca', '.', 'los', 'estudiantes', 'ahora', 'pueden', 'acceder', 'a', 'una', 'gran', 'cantidad', 'de', 'información', 'a', 'su', 'alcance', ',', 'colaborar', 'en', 'proyectos', 'de', 'forma', 'remota', 'e', 'interactuar', 'con', 'herramientas', 'de', 'aprendizaje', 'interactivas', 'que', 'se', 'adaptan', 'a', 'diversos', 'estilos', 'de', 'aprendizaje', '.', 'si', 'bien', 'los', 'beneficios', 'de', 'la', 'tecnología', 'son', 'numerosos', ',', 'también', 'presenta', 'desafíos', '.', 'cuestiones', 'como', 'las', 'amenazas', 'a', 'la', 'ciberseguridad', ',', 'la', 'adicción', 'digital', 'y', 'el', 'impacto', 'ambiental', 'de', 'los', 'residuos', 'electrónicos', 'requieren', 'una', 'consideración', 'cuidadosa', 'y', 'soluciones', 'proactivas', '.', 'al', 'mirar', 'hacia', 'el', 'futuro', ',', 'tecnologías', 'emergentes', 'como', 'la', 'computación', 'cuántica', ',', 'la', 'biotecnología', 'y', 'la', 'exploración', 'espacial', 'prometen', 'ampliar', 'aún', 'más', 'los', 'límites', 'de', 'los', 'logros', 'humanos', '.', 'es', 'fundamental', 'que', 'abordemos', 'estos', 'avances', 'con', 'un', 'equilibrio', 'entre', 'entusiasmo', 'y', 'consideración', 'ética', ',', 'garantizando', 'que', 'la', 'tecnología', 'siga', 'sirviendo', 'a', 'los', 'mejores', 'intereses', 'de', 'la', 'humanidad', 'y', 'al', 'mismo', 'tiempo', 'mitigando', 'los', 'riesgos', 'potenciales', '.', 'tecnología', ':', 'transformando', 'nuestro', 'mundo', '(', '500', 'palabras', ')', 'en', 'el', 'siglo', 'xxi', ',', 'la', 'tecnología', 'se', 'ha', 'convertido', 'en', 'la', 'fuerza', 'impulsora', 'detrás', 'de', 'cambios', 'sin', 'precedentes', 'en', 'la', 'sociedad', 'humana', '.', 'desde', 'la', 'forma', 'en', 'que', 'nos', 'comunicamos', 'y', 'trabajamos', 'hasta', 'cómo', 'aprendemos', 'y', 'nos', 'entretenemos', ',', 'los', 'avances', 'tecnológicos', 'han', 'transformado', 'casi', 'todas', 'las', 'facetas', 'de', 'nuestras', 'vidas', '.', 'esta', 'revolución', 'digital', 'trae', 'consigo', 'una', 'gran', 'cantidad', 'de', 'oportunidades', 'y', 'desafíos', 'que', 'evolucionan', 'continuamente', 'a', 'medida', 'que', 'la', 'innovación', 'avanza', 'a', 'un', 'ritmo', 'cada', 'vez', 'mayor', '.', 'uno', 'de', 'los', 'impactos', 'más', 'profundos', 'de', 'la', 'tecnología', 'está', 'en', 'el', 'ámbito', 'de', 'la', 'comunicación', '.', 'internet', ',', 'junto', 'con', 'los', 'dispositivos', 'móviles', ',', 'ha', 'creado', 'un', 'mundo', 'conectado', 'globalmente', 'donde', 'la', 'información', 'fluye', 'libremente', 'a', 'través', 'de', 'las', 'fronteras', '.', 'las', 'plataformas', 'de', 'redes', 'sociales', 'han', 'revolucionado', 'la', 'forma', 'en', 'que', 'compartimos', 'experiencias', ',', 'expresamos', 'opiniones', 'y', 'mantenemos', 'relaciones', '.', 'si', 'bien', 'esta', 'interconexión', 'ha', 'fomentado', 'la', 'colaboración', 'global', 'y', 'el', 'intercambio', 'cultural', ',', 'también', 'plantea', 'preocupaciones', 'sobre', 'la', 'privacidad', ',', 'la', 'difusión', 'de', 'información', 'errónea', 'y', 'la', 'posibilidad', 'de', 'que', 'la', 'tecnología', 'exacerbe', 'las', 'divisiones', 'sociales', '.', 'en', 'el', 'lugar', 'de', 'trabajo', ',', 'la', 'tecnología', 'ha', 'aumentado', 'drásticamente', 'la', 'productividad', 'y', 'la', 'eficiencia', '.', 'la', 'automatización', 'y', 'la', 'inteligencia', 'artificial', 'están', 'agilizando', 'los', 'procesos', ',', 'permitiendo', 'a', 'las', 'empresas', 'operar', 'a', 'escala', 'global', 'con', 'una', 'velocidad', 'y', 'precisión', 'sin', 'precedentes', '.', 'la', 'computación', 'en', 'la', 'nube', 'ha', 'hecho', 'posible', 'que', 'los', 'equipos', 'colaboren', 'sin', 'problemas', 'a', 'grandes', 'distancias', ',', 'mientras', 'que', 'el', 'análisis', 'de', 'datos', 'proporciona', 'información', 'que', 'impulsa', 'la', 'toma', 'de', 'decisiones', 'informadas', '.', 'sin', 'embargo', ',', 'estos', 'avances', 'también', 'plantean', 'preguntas', 'sobre', 'el', 'desplazamiento', 'laboral', 'y', 'la', 'necesidad', 'de', 'que', 'los', 'trabajadores', 'adapten', 'continuamente', 'sus', 'habilidades', 'para', 'seguir', 'siendo', 'relevantes', 'en', 'un', 'mercado', 'laboral', 'en', 'evolución', '.', 'el', 'campo', 'de', 'la', 'educación', 'ha', 'sido', 'transformado', 'por', 'la', 'tecnología', ',', 'con', 'plataformas', 'de', 'aprendizaje', 'en', 'línea', 'y', 'recursos', 'digitales', 'que', 'hacen', 'que', 'el', 'conocimiento', 'sea', 'más', 'accesible', 'que', 'nunca', '.', 'los', 'estudiantes', 'ahora', 'pueden', 'acceder', 'a', 'una', 'gran', 'cantidad', 'de', 'información', 'a', 'su', 'alcance', ',', 'interactuar', 'con', 'herramientas', 'de', 'aprendizaje', 'interactivas', 'y', 'participar', 'en', 'aulas', 'virtuales', 'que', 'trascienden', 'las', 'fronteras', 'geográficas', '.', 'esta', 'democratización', 'de', 'la', 'educación', 'tiene', 'el', 'potencial', 'de', 'reducir', 'las', 'desigualdades', 'y', 'brindar', 'oportunidades', 'para', 'el', 'aprendizaje', 'permanente', '.', 'la', 'salud', 'es', 'otro', 'sector', 'que', 'vive', 'una', 'revolución', 'tecnológica', '.', 'la', 'telemedicina', ',', 'los', 'dispositivos', 'portátiles', 'y', 'los', 'diagnósticos', 'asistidos', 'por', 'ia', 'están', 'mejorando', 'la', 'atención', 'al', 'paciente', 'y', 'haciendo', 'que', 'la', 'atención', 'médica', 'sea', 'más', 'accesible', '.', 'la', 'ingeniería', 'genética', 'y', 'la', 'medicina', 'personalizada', 'prometen', 'revolucionar', 'los', 'enfoques', 'de', 'tratamiento', ',', 'mientras', 'que', 'la', 'tecnología', 'de', 'impresión', '3', 'd', 'está', 'abriendo', 'nuevas', 'posibilidades', 'en', 'prótesis', 'y', 'trasplantes', 'de', 'órganos', '.', 'la', 'industria', 'del', 'entretenimiento', 'ha', 'sido', 'radicalmente', 'alterada', 'por', 'la', 'tecnología', ',', 'con', 'servicios', 'de', 'transmisión', ',', 'realidad', 'virtual', 'y', 'realidad', 'aumentada', 'que', 'ofrecen', 'experiencias', 'inmersivas', 'que', 'difuminan', 'las', 'líneas', 'entre', 'los', 'mundos', 'digital', 'y', 'físico', '.', 'los', 'juegos', 'se', 'han', 'convertido', 'en', 'una', 'industria', 'multimillonaria', ',', 'con', 'competiciones', 'de', 'deportes', 'electrónicos', 'que', 'atraen', 'a', 'millones', 'de', 'espectadores', 'en', 'todo', 'el', 'mundo', '.', 'si', 'bien', 'los', 'beneficios', 'de', 'la', 'tecnología', 'son', 'numerosos', ',', 'también', 'presenta', 'desafíos', 'importantes', '.', 'las', 'amenazas', 'a', 'la', 'ciberseguridad', 'se', 'han', 'vuelto', 'cada', 'vez', 'más', 'sofisticadas', 'y', 'plantean', 'riesgos', 'para', 'las', 'personas', ',', 'las', 'empresas', 'y', 'la', 'seguridad', 'nacional', '.', 'la', 'cuestión', 'de', 'la', 'adicción', 'digital', ',', 'particularmente', 'entre', 'las', 'generaciones', 'más', 'jóvenes', ',', 'plantea', 'preocupaciones', 'sobre', 'la', 'salud', 'mental', 'y', 'el', 'desarrollo', 'social', '.', 'además', ',', 'el', 'rápido', 'ritmo', 'del', 'cambio', 'tecnológico', 'a', 'menudo', 'supera', 'los', 'marcos', 'regulatorios', ',', 'creando', 'dilemas', 'éticos', 'en', 'áreas', 'como', 'la', 'privacidad', 'de', 'datos', ',', 'el', 'desarrollo', 'de', 'ia', 'y', 'la', 'biotecnología', '.', 'el', 'impacto', 'ambiental', 'de', 'la', 'tecnología', 'es', 'otra', 'consideración', 'crítica', '.', 'si', 'bien', 'las', 'innovaciones', 'en', 'energía', 'renovable', 'y', 'diseño', 'de', 'ciudades', 'inteligentes', 'ofrecen', 'esperanzas', 'de', 'un', 'futuro', 'más', 'sostenible', ',', 'la', 'producción', 'y', 'eliminación', 'de', 'dispositivos', 'electrónicos', 'contribuyen', 'significativamente', 'a', 'la', 'contaminación', 'y', 'al', 'agotamiento', 'de', 'los', 'recursos', '.', 'al', 'mirar', 'hacia', 'el', 'futuro', ',', 'tecnologías', 'emergentes', 'como', 'la', 'computación', 'cuántica', ',', 'la', 'nanotecnología', 'y', 'la', 'exploración', 'espacial', 'prometen', 'ampliar', 'aún', 'más', 'los', 'límites', 'de', 'los', 'logros', 'humanos', '.', 'es', 'fundamental', 'que', 'abordemos', 'estos', 'avances', 'con', 'un', 'equilibrio', 'entre', 'entusiasmo', 'y', 'consideración', 'ética', ',', 'garantizando', 'que', 'la', 'tecnología', 'siga', 'sirviendo', 'a', 'los', 'mejores', 'intereses', 'de', 'la', 'humanidad', 'y', 'al', 'mismo', 'tiempo', 'mitigando', 'los', 'riesgos', 'potenciales', '.', 'en', 'conclusión', ',', 'el', 'papel', 'de', 'la', 'tecnología', 'en', 'la', 'configuración', 'de', 'nuestro', 'mundo', 'es', 'innegable', 'e', 'irreversible', '.', 'a', 'medida', 'que', 'navegamos', 'por', 'esta', 'era', 'digital', ',', 'es', 'esencial', 'aprovechar', 'el', 'poder', 'de', 'la', 'innovación', 'de', 'manera', 'responsable', ',', 'abordar', 'los', 'desafíos', 'de', 'manera', 'proactiva', 'y', 'trabajar', 'hacia', 'un', 'futuro', 'en', 'el', 'que', 'la', 'tecnología', 'mejore', 'el', 'potencial', 'humano', 'y', 'contribuya', 'al', 'bien', 'común', 'de', 'la', 'sociedad', '.', 'tecnología', ':', 'revolucionando', 'nuestro', 'mundo', 'y', 'dando', 'forma', 'a', 'nuestro', 'futuro', '(', '1000', 'palabras', ')', 'en', 'el', 'panorama', 'en', 'rápida', 'evolución', 'del', 'siglo', 'xxi', ',', 'la', 'tecnología', 'se', 'erige', 'como', 'la', 'piedra', 'angular', 'de', 'un', 'cambio', 'sin', 'precedentes', 'que', 'está', 'transformando', 'el', 'tejido', 'mismo', 'de', 'la', 'sociedad', 'humana', '.', 'desde', 'los', 'teléfonos', 'inteligentes', 'en', 'nuestros', 'bolsillos', 'hasta', 'las', 'industrias', 'que', 'impulsan', 'la', 'inteligencia', 'artificial', ',', 'los', 'avances', 'tecnológicos', 'han', 'permeado', 'todos', 'los', 'aspectos', 'de', 'nuestras', 'vidas', ',', 'transformando', 'la', 'forma', 'en', 'que', 'nos', 'comunicamos', ',', 'trabajamos', ',', 'aprendemos', 'e', 'interactuamos', 'con', 'el', 'mundo', 'que', 'nos', 'rodea', '.', 'esta', 'revolución', 'digital', 'trae', 'consigo', 'un', 'complejo', 'tapiz', 'de', 'oportunidades', 'y', 'desafíos', ',', 'que', 'evolucionan', 'continuamente', 'a', 'medida', 'que', 'la', 'innovación', 'avanza', 'a', 'un', 'ritmo', 'cada', 'vez', 'más', 'acelerado', '.', 'quizás', 'el', 'impacto', 'más', 'visible', 'de', 'la', 'tecnología', 'esté', 'en', 'el', 'ámbito', 'de', 'la', 'comunicación', '.', 'internet', ',', 'junto', 'con', 'los', 'dispositivos', 'móviles', ',', 'ha', 'creado', 'un', 'mundo', 'conectado', 'globalmente', 'donde', 'la', 'información', 'fluye', 'libremente', 'a', 'través', 'de', 'las', 'fronteras', 'a', 'la', 'velocidad', 'de', 'la', 'luz', '.', 'las', 'plataformas', 'de', 'redes', 'sociales', 'han', 'revolucionado', 'la', 'forma', 'en', 'que', 'compartimos', 'experiencias', ',', 'expresamos', 'opiniones', 'y', 'mantenemos', 'relaciones', ',', 'reduciendo', 'efectivamente', 'el', 'mundo', 'a', 'una', 'aldea', 'global', '.', 'esta', 'interconexión', 'ha', 'fomentado', 'niveles', 'sin', 'precedentes', 'de', 'colaboración', 'global', ',', 'intercambio', 'cultural', 'y', 'rápida', 'difusión', 'de', 'ideas', '.', 'sin', 'embargo', ',', 'esta', 'revolución', 'de', 'la', 'comunicación', 'no', 'está', 'exenta', 'de', 'inconvenientes', '.', 'la', 'facilidad', 'para', 'compartir', 'información', 'también', 'ha', 'facilitado', 'la', 'difusión', 'de', 'información', 'errónea', 'y', '“', 'noticias', 'falsas', '”', ',', 'desafiando', 'nuestra', 'capacidad', 'de', 'discernir', 'la', 'verdad', 'de', 'la', 'ficción', '.', 'las', 'preocupaciones', 'sobre', 'la', 'privacidad', 'han', 'pasado', 'a', 'primer', 'plano', 'a', 'medida', 'que', 'los', 'datos', 'personales', 'se', 'convierten', 'en', 'un', 'bien', 'valioso', ',', 'a', 'menudo', 'recopilado', 'y', 'explotado', 'tanto', 'por', 'corporaciones', 'como', 'por', 'actores', 'maliciosos', '.', 'la', 'naturaleza', 'adictiva', 'de', 'las', 'plataformas', 'de', 'redes', 'sociales', 'plantea', 'interrogantes', 'sobre', 'su', 'impacto', 'en', 'la', 'salud', 'mental', ',', 'particularmente', 'entre', 'las', 'generaciones', 'más', 'jóvenes', '.', 'en', 'el', 'ámbito', 'profesional', ',', 'la', 'tecnología', 'ha', 'aumentado', 'drásticamente', 'la', 'productividad', 'y', 'la', 'eficiencia', ',', 'transformando', 'la', 'naturaleza', 'misma', 'del', 'trabajo', '.', 'la', 'automatización', 'y', 'la', 'inteligencia', 'artificial', 'están', 'agilizando', 'los', 'procesos', ',', 'permitiendo', 'a', 'las', 'empresas', 'operar', 'a', 'escala', 'global', 'con', 'una', 'velocidad', 'y', 'precisión', 'sin', 'precedentes', '.', 'la', 'computación', 'en', 'la', 'nube', 'ha', 'hecho', 'posible', 'que', 'los', 'equipos', 'colaboren', 'sin', 'problemas', 'a', 'grandes', 'distancias', ',', 'mientras', 'que', 'el', 'análisis', 'de', 'datos', 'proporciona', 'información', 'que', 'impulsa', 'la', 'toma', 'de', 'decisiones', 'informadas', '.', 'el', 'auge', 'del', 'trabajo', 'remoto', ',', 'acelerado', 'por', 'los', 'recientes', 'acontecimientos', 'mundiales', ',', 'ha', 'demostrado', 'el', 'potencial', 'de', 'la', 'tecnología', 'para', 'redefinir', 'las', 'estructuras', 'de', 'trabajo', 'tradicionales', '.', 'las', 'reuniones', 'virtuales', ',', 'el', 'software', 'colaborativo', 'y', 'las', 'redes', 'seguras', 'han', 'hecho', 'posible', 'que', 'muchos', 'trabajen', 'desde', 'cualquier', 'lugar', ',', 'lo', 'que', 'potencialmente', 'ha', 'remodelado', 'los', 'paisajes', 'urbanos', 'y', 'los', 'patrones', 'de', 'desplazamiento', '.', 'sin', 'embargo', ',', 'estos', 'avances', 'también', 'plantean', 'preguntas', 'críticas', 'sobre', 'el', 'futuro', 'del', 'empleo', '.', 'a', 'medida', 'que', 'la', 'automatización', 'y', 'la', 'ia', 'continúan', 'evolucionando', ',', 'las', 'preocupaciones', 'sobre', 'el', 'desplazamiento', 'laboral', 'cobran', 'gran', 'importancia', '.', 'la', 'necesidad', 'de', 'que', 'los', 'trabajadores', 'adapten', 'continuamente', 'sus', 'habilidades', 'para', 'seguir', 'siendo', 'relevantes', 'en', 'un', 'mercado', 'laboral', 'en', 'evolución', 'nunca', 'ha', 'sido', 'más', 'apremiante', ',', 'lo', 'que', 'resalta', 'la', 'importancia', 'del', 'aprendizaje', 'permanente', 'y', 'la', 'adaptabilidad', 'en', 'la', 'fuerza', 'laboral', 'moderna', '.', 'el', 'campo', 'de', 'la', 'educación', 'ha', 'sido', 'profundamente', 'transformado', 'por', 'la', 'tecnología', ',', 'con', 'plataformas', 'de', 'aprendizaje', 'en', 'línea', 'y', 'recursos', 'digitales', 'que', 'hacen', 'que', 'el', 'conocimiento', 'sea', 'más', 'accesible', 'que', 'nunca', '.', 'los', 'estudiantes', 'ahora', 'pueden', 'acceder', 'a', 'una', 'gran', 'cantidad', 'de', 'información', 'a', 'su', 'alcance', ',', 'interactuar', 'con', 'herramientas', 'de', 'aprendizaje', 'interactivas', 'y', 'participar', 'en', 'aulas', 'virtuales', 'que', 'trascienden', 'las', 'fronteras', 'geográficas', '.', 'esta', 'democratización', 'de', 'la', 'educación', 'tiene', 'el', 'potencial', 'de', 'reducir', 'las', 'desigualdades', 'y', 'brindar', 'oportunidades', 'de', 'aprendizaje', 'permanente', 'a', 'personas', 'de', 'todas', 'las', 'edades', 'y', 'orígenes', '.', 'las', 'tecnologías', 'de', 'aprendizaje', 'adaptativo', ',', 'impulsadas', 'por', 'ia', ',', 'están', 'personalizando', 'la', 'educación', 'para', 'satisfacer', 'las', 'necesidades', 'individuales', 'de', 'los', 'estudiantes', ',', 'revolucionando', 'potencialmente', 'la', 'forma', 'en', 'que', 'abordamos', 'la', 'enseñanza', 'y', 'el', 'aprendizaje', '.', 'las', 'tecnologías', 'de', 'realidad', 'virtual', 'y', 'aumentada', 'están', 'creando', 'experiencias', 'de', 'aprendizaje', 'inmersivas', ',', 'dando', 'vida', 'a', 'conceptos', 'abstractos', 'y', 'mejorando', 'la', 'participación', '.', 'sin', 'embargo', ',', 'la', 'brecha', 'digital', 'sigue', 'siendo', 'un', 'desafío', 'importante', ',', 'y', 'las', 'disparidades', 'en', 'el', 'acceso', 'a', 'la', 'tecnología', 'y', 'a', 'internet', 'de', 'alta', 'velocidad', 'pueden', 'exacerbar', 'las', 'desigualdades', 'educativas', '.', 'además', ',', 'el', 'cambio', 'hacia', 'el', 'aprendizaje', 'digital', 'plantea', 'interrogantes', 'sobre', 'los', 'aspectos', 'sociales', 'y', 'emocionales', 'de', 'la', 'educación', 'que', 'tradicionalmente', 'se', 'fomentan', 'en', 'las', 'aulas', 'físicas', '.', 'el', 'sector', 'sanitario', 'está', 'experimentando', 'una', 'revolución', 'tecnológica', 'que', 'promete', 'transformar', 'la', 'atención', 'al', 'paciente', 'y', 'la', 'investigación', 'médica', '.', 'la', 'telemedicina', 'ha', 'hecho', 'que', 'la', 'atención', 'sanitaria', 'sea', 'más', 'accesible', ',', 'permitiendo', 'a', 'los', 'pacientes', 'consultar', 'con', 'los', 'médicos', 'de', 'forma', 'remota', '.', 'los', 'dispositivos', 'portátiles', 'y', 'los', 'sensores', 'de', 'iot', 'están', 'permitiendo', 'un', 'monitoreo', 'continuo', 'de', 'la', 'salud', ',', 'cambiando', 'el', 'enfoque', 'de', 'la', 'atención', 'reactiva', 'a', 'la', 'preventiva', '.', 'los', 'diagnósticos', 'asistidos', 'por', 'ia', 'están', 'mejorando', 'la', 'precisión', 'y', 'la', 'velocidad', 'de', 'la', 'detección', 'de', 'enfermedades', ',', 'mientras', 'que', 'la', 'cirugía', 'robótica', 'está', 'mejorando', 'la', 'precisión', 'en', 'procedimientos', 'complejos', '.', 'la', 'ingeniería', 'genética', 'y', 'la', 'medicina', 'personalizada', 'están', 'abriendo', 'nuevas', 'fronteras', 'en', 'los', 'enfoques', 'de', 'tratamiento', ',', 'adaptando', 'las', 'terapias', 'a', 'los', 'perfiles', 'genéticos', 'individuales', '.', 'la', 'tecnología', 'de', 'impresión', '3', 'd', 'está', 'creando', 'nuevas', 'posibilidades', 'en', 'prótesis', ',', 'implantes', 'e', 'incluso', 'trasplantes', 'de', 'órganos', '.', 'el', 'uso', 'de', 'big', 'data', 'en', 'la', 'atención', 'sanitaria', 'está', 'facilitando', 'la', 'investigación', 'médica', 'a', 'gran', 'escala', ',', 'acelerando', 'potencialmente', 'el', 'descubrimiento', 'de', 'nuevos', 'tratamientos', 'y', 'curas', '.', 'sin', 'embargo', ',', 'estos', 'avances', 'también', 'plantean', 'preocupaciones', 'éticas', ',', 'particularmente', 'con', 'respecto', 'a', 'la', 'privacidad', 'de', 'los', 'datos', ',', 'la', 'distribución', 'equitativa', 'de', 'estas', 'tecnologías', 'y', 'el', 'potencial', 'de', 'discriminación', 'genética', '.', 'la', 'integración', 'de', 'la', 'ia', 'en', 'la', 'toma', 'de', 'decisiones', 'en', 'materia', 'de', 'atención', 'sanitaria', 'también', 'plantea', 'interrogantes', 'sobre', 'la', 'rendición', 'de', 'cuentas', 'y', 'el', 'papel', 'del', 'juicio', 'humano', 'en', 'la', 'atención', 'médica', '.', 'la', 'industria', 'del', 'entretenimiento', 'ha', 'sido', 'radicalmente', 'alterada', 'por', 'la', 'tecnología', ',', 'con', 'servicios', 'de', 'transmisión', ',', 'realidad', 'virtual', 'y', 'realidad', 'aumentada', 'que', 'ofrecen', 'experiencias', 'inmersivas', 'que', 'difuminan', 'las', 'líneas', 'entre', 'los', 'mundos', 'digital', 'y', 'físico', '.', 'el', 'auge', 'del', 'contenido', 'bajo', 'demanda', 'ha', 'cambiado', 'los', 'hábitos', 'de', 'visualización', 'y', 'ha', 'desafiado', 'los', 'modelos', 'de', 'medios', 'tradicionales', '.', 'los', 'juegos', 'se', 'han', 'convertido', 'en', 'una', 'industria', 'multimillonaria', ',', 'con', 'competiciones', 'de', 'deportes', 'electrónicos', 'que', 'atraen', 'a', 'millones', 'de', 'espectadores', 'en', 'todo', 'el', 'mundo', 'y', 'mundos', 'virtuales', 'cada', 'vez', 'más', 'sofisticados', '.', 'los', 'influencers', 'de', 'las', 'redes', 'sociales', 'y', 'el', 'contenido', 'generado', 'por', 'los', 'usuarios', 'han', 'democratizado', 'la', 'creación', 'de', 'contenido', ',', 'permitiendo', 'a', 'las', 'personas', 'llegar', 'a', 'audiencias', 'globales', '.', 'sin', 'embargo', ',', 'este', 'cambio', 'también', 'ha', 'suscitado', 'preocupaciones', 'sobre', 'la', 'calidad', 'del', 'contenido', ',', 'los', 'derechos', 'de', 'propiedad', 'intelectual', 'y', 'el', 'impacto', 'de', 'la', 'disponibilidad', 'constante', 'de', 'entretenimiento', 'en', 'la', 'productividad', 'y', 'la', 'salud', 'mental', '.', 'si', 'bien', 'la', 'tecnología', 'ofrece', 'soluciones', 'a', 'muchos', 'desafíos', 'ambientales', ',', 'también', 'presenta', 'su', 'propio', 'conjunto', 'de', 'preocupaciones', 'ambientales', '.', 'las', 'innovaciones', 'en', 'energía', 'renovable', ',', 'sistemas', 'de', 'redes', 'inteligentes', 'y', 'dispositivos', 'energéticamente', 'eficientes', 'son', 'cruciales', 'en', 'la', 'lucha', 'contra', 'el', 'cambio', 'climático', '.', 'las', 'tecnologías', 'de', 'ciudades', 'inteligentes', 'prometen', 'optimizar', 'el', 'uso', 'de', 'recursos', 'y', 'reducir', 'la', 'huella', 'ambiental', 'urbana', '.', 'sin', 'embargo', ',', 'la', 'producción', 'y', 'eliminación', 'de', 'dispositivos', 'electrónicos', 'contribuyen', 'significativamente', 'a', 'la', 'contaminación', 'y', 'al', 'agotamiento', 'de', 'los', 'recursos', '.', 'el', 'consumo', 'energético', 'de', 'los', 'centros', 'de', 'datos', 'y', 'las', 'tecnologías', 'blockchain', 'plantea', 'interrogantes', 'sobre', 'la', 'sostenibilidad', 'de', 'nuestra', 'infraestructura', 'digital', '.', 'equilibrar', 'el', 'progreso', 'tecnológico', 'con', 'la', 'gestión', 'ambiental', 'sigue', 'siendo', 'un', 'desafío', 'crítico', 'para', 'las', 'próximas', 'décadas', '.', 'a', 'medida', 'que', 'la', 'tecnología', 'continúa', 'avanzando', 'a', 'un', 'ritmo', 'rápido', ',', 'a', 'menudo', 'supera', 'nuestra', 'capacidad', 'para', 'comprenderla', 'completamente', 'implicaciones', 'o', 'desarrollar', 'marcos', 'regulatorios', 'apropiados', '.', 'los', 'dilemas', 'éticos', 'abundan', 'en', 'áreas', 'como', 'el', 'desarrollo', 'de', 'la', 'ia', ',', 'la', 'privacidad', 'de', 'los', 'datos', ',', 'la', 'biotecnología', 'y', 'el', 'uso', 'de', 'la', 'tecnología', 'en', 'la', 'guerra', '.', 'el', 'potencial', 'de', 'la', 'tecnología', 'para', 'exacerbar', 'las', 'desigualdades', 'sociales', 'o', 'utilizarse', 'para', 'vigilancia', 'y', 'control', 'plantea', 'preguntas', 'importantes', 'sobre', 'la', 'dinámica', 'del', 'poder', 'en', 'la', 'era', 'digital', '.', 'de', 'cara', 'al', 'futuro', ',', 'las', 'tecnologías', 'emergentes', 'como', 'la', 'computación', 'cuántica', ',', 'la', 'nanotecnología', 'y', 'la', 'exploración', 'espacial', 'prometen', 'ampliar', 'aún', 'más', 'los', 'límites', 'de', 'los', 'logros', 'humanos', '.', 'el', 'potencial', 'de', 'estas', 'tecnologías', 'para', 'resolver', 'desafíos', 'globales', ',', 'desde', 'el', 'cambio', 'climático', 'hasta', 'las', 'enfermedades', ',', 'es', 'inmenso', '.', 'sin', 'embargo', ',', 'también', 'conllevan', 'riesgos', 'que', 'deben', 'gestionarse', 'con', 'cuidado', '.', 'a', 'medida', 'que', 'navegamos', 'por', 'esta', 'era', 'digital', ',', 'queda', 'claro', 'que', 'el', 'papel', 'de', 'la', 'tecnología', 'en', 'la', 'configuración', 'de', 'nuestro', 'mundo', 'es', 'innegable', 'e', 'irreversible', '.', 'los', 'desafíos', 'que', 'enfrentamos', 'son', 'complejos', 'y', 'multifacéticos', 'y', 'requieren', 'una', 'consideración', 'reflexiva', 'y', 'soluciones', 'proactivas', '.', 'es', 'fundamental', 'que', 'abordemos', 'los', 'avances', 'tecnológicos', 'con', 'un', 'equilibrio', 'entre', 'entusiasmo', 'y', 'consideración', 'ética', ',', 'garantizando', 'que', 'la', 'innovación', 'sirva', 'a', 'los', 'mejores', 'intereses', 'de', 'la', 'humanidad', 'y', 'mitigando', 'al', 'mismo', 'tiempo', 'los', 'riesgos', 'potenciales', '.', 'el', 'futuro', 'que', 'creemos', 'dependerá', 'de', 'nuestra', 'capacidad', 'para', 'aprovechar', 'el', 'poder', 'de', 'la', 'tecnología', 'de', 'manera', 'responsable', ',', 'abordar', 'los', 'desafíos', 'de', 'frente', 'y', 'trabajar', 'hacia', 'un', 'mundo', 'donde', 'el', 'progreso', 'tecnológico', 'mejore', 'el', 'potencial', 'humano', 'y', 'contribuya', 'al', 'bien', 'común', 'de', 'la', 'sociedad', '.', 'mientras', 'nos', 'encontramos', 'al', 'borde', 'de', 'nuevas', 'fronteras', 'tecnológicas', ',', 'nuestras', 'decisiones', 'de', 'hoy', 'darán', 'forma', 'al', 'mundo', 'del', 'mañana', ',', 'por', 'lo', 'que', 'es', 'imperativo', 'que', 'procedamos', 'con', 'sabiduría', ',', 'previsión', 'y', 'compromiso', 'con', 'el', 'bienestar', 'de', 'todos', '.', 'los', 'datos', 'de', 'downdetector', 'son', 'auto', '-', 'reportados', ',', 'lo', 'que', 'significa', 'que', 'no', 'representan', 'completamente', 'la', 'magnitud', 'de', 'la', 'interrupción', '.', 'cnn', 'se', 'comunicó', 'con', 'x', ',', 'aunque', 'la', 'compañía', 'generalmente', 'no', 'responde', 'a', 'consultas', 'de', 'prensa', '.', 'musk', 'publicó', 'en', 'x', 'que', 'cree', 'que', '“', 'un', 'gran', 'grupo', 'coordinado', 'y', '/', 'o', 'un', 'país', 'está', 'involucrado', '”', ',', 'aunque', 'no', 'se', 'confirmó', 'la', 'fuente', 'de', 'motivación', 'detrás', 'del', 'ataque', '.', 'musk', 'también', 'respondió', '“', 'sí', '”', 'a', 'una', 'publicación', 'en', 'x', 'que', 'sugiere', 'que', 'las', 'personas', 'están', 'tratando', 'de', 'silenciar', 'al', 'multimillonario', 'y', 'su', 'plataforma', ',', 'aunque', 'no', 'se', 'han', 'revelado', 'más', 'detalles', 'sobre', 'la', 'interrupción', 'del', 'servicio', ',', 'incluyendo', 'si', 'fue', 'causada', 'por', 'un', 'ataque', 'dirigido', '.', 'eric', 'noonan', ',', 'ceo', 'del', 'proveedor', 'de', 'ciberseguridad', 'cybersheath', ',', 'dijo', 'a', 'cnn', 'que', 'es', 'probable', 'que', 'sea', 'demasiado', 'pronto', 'para', 'determinar', 'si', 'un', 'ataque', 'causó', 'los', 'problemas', '.', '“', 'una', 'de', 'las', 'cosas', 'que', 'siempre', 'debe', 'tomarse', 'con', 'precaución', 'es', 'cualquier', 'declaración', 'hecha', 'en', 'el', 'corto', 'plazo', ',', 'inmediatamente', 'después', ',', 'o', 'incluso', 'en', 'este', 'caso', 'durante', 'un', 'ataque', '”', ',', 'dijo', 'noonan', '.', 'musk', 'tiene', 'un', 'historial', 'de', 'atribuir', 'fallos', 'técnicos', 'a', 'ciberataques', '.', 'cuando', 'su', 'conversación', 'con', 'donald', 'trump', 'en', 'x', 'comenzó', '42', 'minutos', 'tarde', 'en', 'agosto', 'de', '2024', ',', 'dijo', 'que', 'había', 'una', '“', 'probabilidad', '”', 'de', 'que', 'se', 'debiera', 'a', 'un', 'ataque', '.', '“', 'dada', 'la', 'prominencia', 'de', 'esta', 'conversación', ',', 'por', 'supuesto', 'que', 'había', 'una', 'probabilidad', 'del', '100', '%', 'de', 'ataques', 'ddos', '”', ',', 'publicó', 'musk', 'en', 'la', 'plataforma', 'de', 'redes', 'sociales', 'en', 'ese', 'momento', '.', 'ddos', 'significa', '“', 'denegación', 'de', 'servicio', 'distribuida', '”', ',', 'que', 'implica', 'abrumar', 'los', 'servidores', 'con', 'tráfico', 'falso', 'para', 'causar', 'interrupciones', 'en', 'el', 'servicio', '.', 'sin', 'embargo', ',', 'el', 'anuncio', 'de', 'la', 'campaña', 'presidencial', 'del', 'gobernador', 'de', 'florida', ',', 'ron', 'desantis', ',', 'en', 'x', 'en', '2023', 'también', 'se', 'vio', 'empañado', 'por', 'dificultades', 'técnicas', '.', 'cnne', '1736900', '-', 'donald', 'trump', 'artículo', 'relacionado', 'trump', 'y', 'musk', 'mantienen', 'conversación', 'amistosa', 'en', 'x', 'tras', 'retraso', 'por', 'dificultades', 'técnicas', 'los', 'ataques', 'de', 'ransomware', 'han', 'sido', 'más', 'comunes', 'que', 'los', 'ataques', 'ddos', 'en', 'los', 'últimos', 'años', 'porque', 'suelen', 'estar', 'motivados', 'financieramente', ',', 'según', 'noonan', '.', 'ddos', ',', 'sin', 'embargo', ',', 'se', 'utiliza', 'típicamente', 'para', 'causar', 'una', 'interrupción', ',', 'lo', 'que', 'también', 'dificulta', 'confirmar', 'la', 'fuente', 'de', 'este', 'tipo', 'de', 'ataques', '.', 'musk', 'implementó', 'recortes', 'generalizados', 'y', 'cambios', 'importantes', 'en', 'x', 'después', 'de', 'adquirir', 'la', 'popular', 'plataforma', 'de', 'redes', 'sociales', ',', 'entonces', 'llamada', 'twitter', ',', 'en', '2022', '.', 'inmediatamente', 'despidió', 'a', 'altos', 'ejecutivos', 'y', ',', 'en', 'cuestión', 'de', 'días', 'después', 'de', 'comprar', 'x', ',', 'despidió', 'a', '3', '.', '500', 'personas', ',', 'o', 'alrededor', 'de', 'la', 'mitad', 'de', 'la', 'fuerza', 'laboral', 'de', 'la', 'plataforma', '.', 'despidió', 'al', '80', '%', 'del', 'personal', 'en', 'total', 'y', 'exigió', 'que', 'los', 'empleados', 'restantes', 'regresaran', 'a', 'la', 'oficina', 'a', 'tiempo', 'completo', '.', 'la', 'plataforma', 'ha', 'experimentado', 'una', 'serie', 'de', 'fallas', 'e', 'interrupciones', 'desde', 'la', 'compra', '.', 'ha', 'sido', 'un', 'día', 'difícil', 'para', 'los', 'negocios', 'de', 'musk', ',', 'quien', 'también', 'es', 'el', 'jefe', 'del', 'departamento', 'de', 'eficiencia', 'gubernamental', 'de', 'trump', '(', 'doge', ',', 'por', 'sus', 'siglas', 'en', 'inglés', ')', '.', 'este', 'lunes', ',', 'las', 'acciones', 'de', 'tesla', 'cayeron', 'hasta', 'un', '12', '%', 'en', 'las', 'operaciones', 'del', 'mediodía', ',', 'borrando', 'sus', 'ganancias', 'desde', 'la', 'elección', 'de', 'trump', 'en', 'noviembre', 'de', '2024', '.']\n"
     ]
    }
   ],
   "source": [
    "# --- Proceso de ejecución ---\n",
    "\n",
    "# 1. Definimos un texto de ejemplo que contiene palabras, números y puntuación.\n",
    "# texto_ejemplo = \"En 2025, el producto A-42 costará $500.50 y la entrega será a las 10:30.\"\n",
    "\n",
    "# 2. Llamamos a nuestra función personalizada para tokenizar el texto.\n",
    "tokens_resultado = tokenizar_con_regex_y_numeros(texto_minusculas)\n",
    "\n",
    "# 3. Imprimimos el resultado para verificar cómo se separaron los elementos.\n",
    "print(f\"Texto original:\\n{texto_minusculas}\\n\")\n",
    "print(f\"Tokens generados ({len(tokens_resultado)} tokens):\\n{tokens_resultado}\")"
   ]
  },
  {
   "cell_type": "code",
   "execution_count": 26,
   "id": "cc73f89f",
   "metadata": {},
   "outputs": [
    {
     "name": "stdout",
     "output_type": "stream",
     "text": [
      "Requirement already satisfied: spacy in c:\\users\\acer\\appdata\\local\\programs\\python\\python313\\lib\\site-packages (3.8.7)\n",
      "Requirement already satisfied: spacy-legacy<3.1.0,>=3.0.11 in c:\\users\\acer\\appdata\\local\\programs\\python\\python313\\lib\\site-packages (from spacy) (3.0.12)\n",
      "Requirement already satisfied: spacy-loggers<2.0.0,>=1.0.0 in c:\\users\\acer\\appdata\\local\\programs\\python\\python313\\lib\\site-packages (from spacy) (1.0.5)\n",
      "Requirement already satisfied: murmurhash<1.1.0,>=0.28.0 in c:\\users\\acer\\appdata\\local\\programs\\python\\python313\\lib\\site-packages (from spacy) (1.0.13)\n",
      "Requirement already satisfied: cymem<2.1.0,>=2.0.2 in c:\\users\\acer\\appdata\\local\\programs\\python\\python313\\lib\\site-packages (from spacy) (2.0.11)\n",
      "Requirement already satisfied: preshed<3.1.0,>=3.0.2 in c:\\users\\acer\\appdata\\local\\programs\\python\\python313\\lib\\site-packages (from spacy) (3.0.10)\n",
      "Requirement already satisfied: thinc<8.4.0,>=8.3.4 in c:\\users\\acer\\appdata\\local\\programs\\python\\python313\\lib\\site-packages (from spacy) (8.3.6)\n",
      "Requirement already satisfied: wasabi<1.2.0,>=0.9.1 in c:\\users\\acer\\appdata\\local\\programs\\python\\python313\\lib\\site-packages (from spacy) (1.1.3)\n",
      "Requirement already satisfied: srsly<3.0.0,>=2.4.3 in c:\\users\\acer\\appdata\\local\\programs\\python\\python313\\lib\\site-packages (from spacy) (2.5.1)\n",
      "Requirement already satisfied: catalogue<2.1.0,>=2.0.6 in c:\\users\\acer\\appdata\\local\\programs\\python\\python313\\lib\\site-packages (from spacy) (2.0.10)\n",
      "Requirement already satisfied: weasel<0.5.0,>=0.1.0 in c:\\users\\acer\\appdata\\local\\programs\\python\\python313\\lib\\site-packages (from spacy) (0.4.1)\n",
      "Requirement already satisfied: typer<1.0.0,>=0.3.0 in c:\\users\\acer\\appdata\\local\\programs\\python\\python313\\lib\\site-packages (from spacy) (0.16.0)\n",
      "Requirement already satisfied: tqdm<5.0.0,>=4.38.0 in c:\\users\\acer\\appdata\\local\\programs\\python\\python313\\lib\\site-packages (from spacy) (4.67.1)\n",
      "Requirement already satisfied: numpy>=1.19.0 in c:\\users\\acer\\appdata\\local\\programs\\python\\python313\\lib\\site-packages (from spacy) (2.2.2)\n",
      "Requirement already satisfied: requests<3.0.0,>=2.13.0 in c:\\users\\acer\\appdata\\local\\programs\\python\\python313\\lib\\site-packages (from spacy) (2.32.3)\n",
      "Requirement already satisfied: pydantic!=1.8,!=1.8.1,<3.0.0,>=1.7.4 in c:\\users\\acer\\appdata\\local\\programs\\python\\python313\\lib\\site-packages (from spacy) (2.11.2)\n",
      "Requirement already satisfied: jinja2 in c:\\users\\acer\\appdata\\local\\programs\\python\\python313\\lib\\site-packages (from spacy) (3.1.6)\n",
      "Requirement already satisfied: setuptools in c:\\users\\acer\\appdata\\local\\programs\\python\\python313\\lib\\site-packages (from spacy) (78.1.0)\n",
      "Requirement already satisfied: packaging>=20.0 in c:\\users\\acer\\appdata\\local\\programs\\python\\python313\\lib\\site-packages (from spacy) (24.2)\n",
      "Requirement already satisfied: langcodes<4.0.0,>=3.2.0 in c:\\users\\acer\\appdata\\local\\programs\\python\\python313\\lib\\site-packages (from spacy) (3.5.0)\n",
      "Requirement already satisfied: language-data>=1.2 in c:\\users\\acer\\appdata\\local\\programs\\python\\python313\\lib\\site-packages (from langcodes<4.0.0,>=3.2.0->spacy) (1.3.0)\n",
      "Requirement already satisfied: annotated-types>=0.6.0 in c:\\users\\acer\\appdata\\local\\programs\\python\\python313\\lib\\site-packages (from pydantic!=1.8,!=1.8.1,<3.0.0,>=1.7.4->spacy) (0.7.0)\n",
      "Requirement already satisfied: pydantic-core==2.33.1 in c:\\users\\acer\\appdata\\local\\programs\\python\\python313\\lib\\site-packages (from pydantic!=1.8,!=1.8.1,<3.0.0,>=1.7.4->spacy) (2.33.1)\n",
      "Requirement already satisfied: typing-extensions>=4.12.2 in c:\\users\\acer\\appdata\\local\\programs\\python\\python313\\lib\\site-packages (from pydantic!=1.8,!=1.8.1,<3.0.0,>=1.7.4->spacy) (4.13.0)\n",
      "Requirement already satisfied: typing-inspection>=0.4.0 in c:\\users\\acer\\appdata\\local\\programs\\python\\python313\\lib\\site-packages (from pydantic!=1.8,!=1.8.1,<3.0.0,>=1.7.4->spacy) (0.4.0)\n",
      "Requirement already satisfied: charset-normalizer<4,>=2 in c:\\users\\acer\\appdata\\local\\programs\\python\\python313\\lib\\site-packages (from requests<3.0.0,>=2.13.0->spacy) (3.4.1)\n",
      "Requirement already satisfied: idna<4,>=2.5 in c:\\users\\acer\\appdata\\local\\programs\\python\\python313\\lib\\site-packages (from requests<3.0.0,>=2.13.0->spacy) (3.10)\n",
      "Requirement already satisfied: urllib3<3,>=1.21.1 in c:\\users\\acer\\appdata\\local\\programs\\python\\python313\\lib\\site-packages (from requests<3.0.0,>=2.13.0->spacy) (2.3.0)\n",
      "Requirement already satisfied: certifi>=2017.4.17 in c:\\users\\acer\\appdata\\local\\programs\\python\\python313\\lib\\site-packages (from requests<3.0.0,>=2.13.0->spacy) (2025.1.31)\n",
      "Requirement already satisfied: blis<1.4.0,>=1.3.0 in c:\\users\\acer\\appdata\\local\\programs\\python\\python313\\lib\\site-packages (from thinc<8.4.0,>=8.3.4->spacy) (1.3.0)\n",
      "Requirement already satisfied: confection<1.0.0,>=0.0.1 in c:\\users\\acer\\appdata\\local\\programs\\python\\python313\\lib\\site-packages (from thinc<8.4.0,>=8.3.4->spacy) (0.1.5)\n",
      "Requirement already satisfied: colorama in c:\\users\\acer\\appdata\\local\\programs\\python\\python313\\lib\\site-packages (from tqdm<5.0.0,>=4.38.0->spacy) (0.4.6)\n",
      "Requirement already satisfied: click>=8.0.0 in c:\\users\\acer\\appdata\\local\\programs\\python\\python313\\lib\\site-packages (from typer<1.0.0,>=0.3.0->spacy) (8.1.8)\n",
      "Requirement already satisfied: shellingham>=1.3.0 in c:\\users\\acer\\appdata\\local\\programs\\python\\python313\\lib\\site-packages (from typer<1.0.0,>=0.3.0->spacy) (1.5.4)\n",
      "Requirement already satisfied: rich>=10.11.0 in c:\\users\\acer\\appdata\\local\\programs\\python\\python313\\lib\\site-packages (from typer<1.0.0,>=0.3.0->spacy) (13.9.4)\n",
      "Requirement already satisfied: cloudpathlib<1.0.0,>=0.7.0 in c:\\users\\acer\\appdata\\local\\programs\\python\\python313\\lib\\site-packages (from weasel<0.5.0,>=0.1.0->spacy) (0.21.1)\n",
      "Requirement already satisfied: smart-open<8.0.0,>=5.2.1 in c:\\users\\acer\\appdata\\local\\programs\\python\\python313\\lib\\site-packages (from weasel<0.5.0,>=0.1.0->spacy) (7.3.0.post1)\n",
      "Requirement already satisfied: wrapt in c:\\users\\acer\\appdata\\local\\programs\\python\\python313\\lib\\site-packages (from smart-open<8.0.0,>=5.2.1->weasel<0.5.0,>=0.1.0->spacy) (1.17.2)\n",
      "Requirement already satisfied: marisa-trie>=1.1.0 in c:\\users\\acer\\appdata\\local\\programs\\python\\python313\\lib\\site-packages (from language-data>=1.2->langcodes<4.0.0,>=3.2.0->spacy) (1.3.0)\n",
      "Requirement already satisfied: markdown-it-py>=2.2.0 in c:\\users\\acer\\appdata\\local\\programs\\python\\python313\\lib\\site-packages (from rich>=10.11.0->typer<1.0.0,>=0.3.0->spacy) (3.0.0)\n",
      "Requirement already satisfied: pygments<3.0.0,>=2.13.0 in c:\\users\\acer\\appdata\\local\\programs\\python\\python313\\lib\\site-packages (from rich>=10.11.0->typer<1.0.0,>=0.3.0->spacy) (2.19.1)\n",
      "Requirement already satisfied: mdurl~=0.1 in c:\\users\\acer\\appdata\\local\\programs\\python\\python313\\lib\\site-packages (from markdown-it-py>=2.2.0->rich>=10.11.0->typer<1.0.0,>=0.3.0->spacy) (0.1.2)\n",
      "Requirement already satisfied: MarkupSafe>=2.0 in c:\\users\\acer\\appdata\\local\\programs\\python\\python313\\lib\\site-packages (from jinja2->spacy) (3.0.2)\n",
      "Collecting es-core-news-sm==3.8.0\n",
      "  Downloading https://github.com/explosion/spacy-models/releases/download/es_core_news_sm-3.8.0/es_core_news_sm-3.8.0-py3-none-any.whl (12.9 MB)\n",
      "     ---------------------------------------- 0.0/12.9 MB ? eta -:--:--\n",
      "     ------------------------------ --------- 9.7/12.9 MB 52.7 MB/s eta 0:00:01\n",
      "     ---------------------------------------- 12.9/12.9 MB 44.9 MB/s  0:00:00\n",
      "\u001b[38;5;2m✔ Download and installation successful\u001b[0m\n",
      "You can now load the package via spacy.load('es_core_news_sm')\n",
      "Requirement already satisfied: pdfplumber in c:\\users\\acer\\appdata\\local\\programs\\python\\python313\\lib\\site-packages (0.11.7)\n",
      "Requirement already satisfied: pdfminer.six==20250506 in c:\\users\\acer\\appdata\\local\\programs\\python\\python313\\lib\\site-packages (from pdfplumber) (20250506)\n",
      "Requirement already satisfied: Pillow>=9.1 in c:\\users\\acer\\appdata\\local\\programs\\python\\python313\\lib\\site-packages (from pdfplumber) (11.1.0)\n",
      "Requirement already satisfied: pypdfium2>=4.18.0 in c:\\users\\acer\\appdata\\local\\programs\\python\\python313\\lib\\site-packages (from pdfplumber) (4.30.0)\n",
      "Requirement already satisfied: charset-normalizer>=2.0.0 in c:\\users\\acer\\appdata\\local\\programs\\python\\python313\\lib\\site-packages (from pdfminer.six==20250506->pdfplumber) (3.4.1)\n",
      "Requirement already satisfied: cryptography>=36.0.0 in c:\\users\\acer\\appdata\\local\\programs\\python\\python313\\lib\\site-packages (from pdfminer.six==20250506->pdfplumber) (45.0.6)\n",
      "Requirement already satisfied: cffi>=1.14 in c:\\users\\acer\\appdata\\local\\programs\\python\\python313\\lib\\site-packages (from cryptography>=36.0.0->pdfminer.six==20250506->pdfplumber) (1.17.1)\n",
      "Requirement already satisfied: pycparser in c:\\users\\acer\\appdata\\local\\programs\\python\\python313\\lib\\site-packages (from cffi>=1.14->cryptography>=36.0.0->pdfminer.six==20250506->pdfplumber) (2.22)\n"
     ]
    }
   ],
   "source": [
    "!pip install spacy\n",
    "!python -m spacy download es_core_news_sm\n",
    "!pip install pdfplumber --no-cache-dir"
   ]
  },
  {
   "cell_type": "code",
   "execution_count": 27,
   "id": "fbbbaca7",
   "metadata": {},
   "outputs": [],
   "source": [
    "import pdfplumber  # Para extraer texto de PDFs\n",
    "import re  # Para trabajar con expresiones regulares\n",
    "import spacy  # Para procesamiento de lenguaje natural (NLP)\n",
    "import unicodedata  # Para normalizar caracteres Unicode"
   ]
  },
  {
   "cell_type": "code",
   "execution_count": 28,
   "id": "eb606496",
   "metadata": {},
   "outputs": [],
   "source": [
    "nlp = spacy.load(\"es_core_news_sm\")  #cargar el modelo en español"
   ]
  },
  {
   "cell_type": "code",
   "execution_count": 29,
   "id": "6c3b7023",
   "metadata": {},
   "outputs": [
    {
     "name": "stdout",
     "output_type": "stream",
     "text": [
      "¡Texto extraído con éxito!\n",
      "ejemplos de ensayos sobre tecnología \n",
      "Por: Dr. Marvin L. Smith \n",
      "Actualizado: 10 de julio de 2024 \n",
      "En el panorama digital actual, en rápida evolución, la capacidad de articular pensamientos \n",
      "sobre el impacto de la tecnología en nuestro mundo es cada vez más importante. Ya sea que \n",
      "sea un estudiante que trabaja en una tarea de clase, un investigador que prepara un artículo o \n",
      "un profesional que elabora un informe, comprender cómo escribir de manera efectiva sobre \n",
      "tecnología con distintas longitud\n"
     ]
    }
   ],
   "source": [
    "# Importa la librería fitz, que es el nombre del módulo PyMuPDF\n",
    "import fitz\n",
    "\n",
    "# Usa la misma ruta de tu archivo\n",
    "pdf_path = \"C:/Users/ACER/OneDrive/Documentos/Analitica de datos/1. Maestria/7. NLP/Clase_3/ejemplos de ensayos sobre tecnología.pdf\"\n",
    "texto_pdf = \"\"\n",
    "\n",
    "try:\n",
    "    # Abre el documento PDF con fitz\n",
    "    with fitz.open(pdf_path) as doc:\n",
    "        # Itera sobre cada página del documento\n",
    "        for pagina in doc:\n",
    "            # Extrae el texto de la página y lo añade a la variable\n",
    "            texto_pdf += pagina.get_text()\n",
    "    \n",
    "    # Imprime el texto extraído (o una parte para verificar)\n",
    "    print(\"¡Texto extraído con éxito!\")\n",
    "    print(texto_pdf[:500]) # Imprime los primeros 500 caracteres\n",
    "\n",
    "except Exception as e:\n",
    "    # Si ocurre un error, imprímelo para saber qué pasó\n",
    "    print(f\"No se pudo leer el PDF. El archivo podría estar dañado o no ser un PDF válido.\")\n",
    "    print(f\"Error original: {e}\")"
   ]
  },
  {
   "cell_type": "code",
   "execution_count": 31,
   "id": "872459df",
   "metadata": {},
   "outputs": [],
   "source": [
    "pdf_path = \"C:/Users/ACER/OneDrive/Documentos/Analitica de datos/1. Maestria/7. NLP/Clase_3/ejemplos de ensayos sobre tecnología.pdf\"\n",
    "# Extraer texto del PDF\n",
    "with pdfplumber.open(pdf_path) as pdf:\n",
    "    texto_pdf = \"\"\n",
    "    for pagina in pdf.pages:\n",
    "        texto_pdf += pagina.extract_text()"
   ]
  },
  {
   "cell_type": "code",
   "execution_count": 32,
   "id": "8e384903",
   "metadata": {},
   "outputs": [],
   "source": [
    "header_pattern = r\"TECNOLOGIA Y SUS EJEMPLOS 2024\""
   ]
  },
  {
   "cell_type": "code",
   "execution_count": 33,
   "id": "fce7d190",
   "metadata": {},
   "outputs": [],
   "source": [
    "def extract_text_without_header(pdf_path):\n",
    "    extracted_text = []  # Lista donde almacenaremos el texto de cada página\n",
    "\n",
    "    with pdfplumber.open(pdf_path) as pdf:  # Abrir el archivo PDF\n",
    "        for page in pdf.pages:  # Iterar por cada página del PDF\n",
    "            text = page.extract_text()  # Extraer texto de la página\n",
    "            if text:  # Verificar si hay texto en la página\n",
    "                text = re.sub(header_pattern, \"\", text, flags=re.DOTALL)  # Eliminar encabezado con regex\n",
    "                extracted_text.append(text)  # Guardar el texto limpio en la lista\n",
    "\n",
    "    return \" \".join(extracted_text)  # Unir todas las páginas en un solo texto"
   ]
  },
  {
   "cell_type": "code",
   "execution_count": 34,
   "id": "ceacc026",
   "metadata": {},
   "outputs": [],
   "source": [
    "def preprocess_text(text):\n",
    "    text = unicodedata.normalize(\"NFKD\", text)  # Normalizar caracteres Unicode (ej. á → a)\n",
    "\n",
    "    doc = nlp(text.lower())  # Convertir todo el texto a minúsculas y procesarlo con spaCy\n",
    "\n",
    "    tokens = [token.text for token in doc if token.is_alpha and not token.is_stop]\n",
    "    return tokens"
   ]
  },
  {
   "cell_type": "code",
   "execution_count": 35,
   "id": "0487e16c",
   "metadata": {},
   "outputs": [
    {
     "name": "stdout",
     "output_type": "stream",
     "text": [
      "['ejemplos', 'ensayos', 'dr', 'marvin', 'smith', 'actualizado', 'julio', 'panorama', 'digital', 'actual', 'capacidad', 'articular', 'pensamientos', 'impacto', 'mundo', 'importante', 'estudiante', 'trabaja', 'tarea', 'clase', 'investigador', 'prepara', 'profesional', 'elabora', 'informe', 'comprender', 'escribir', 'efectiva', 'distintas', 'longitudes', 'habilidad', 'valiosa', 'presenta', 'ensayos', 'muestra', 'tema', 'adaptado', 'palabras', 'palabras', 'ensayos', 'sirven', 'modelos', 'demostrar', 'tema', 'abordarse', 'niveles', 'profundidad', 'detalle', 'dependiendo', 'requerida']\n"
     ]
    }
   ],
   "source": [
    "raw_text = extract_text_without_header(pdf_path)  # Extraer texto limpio del PDF\n",
    "tokens = preprocess_text(raw_text)  # Preprocesar el texto con spaCy\n",
    "\n",
    "print(tokens[:50])  # Mostrar los primeros 50 tokens como prueba"
   ]
  },
  {
   "cell_type": "code",
   "execution_count": 37,
   "id": "33b77e50",
   "metadata": {},
   "outputs": [
    {
     "name": "stdout",
     "output_type": "stream",
     "text": [
      "Tokens guardados en 'TALLER_3.txt'\n"
     ]
    }
   ],
   "source": [
    "with open(\"TALLER_3.txt\", \"w\", encoding=\"utf-8\") as f:\n",
    "    f.write(\" \".join(tokens))  # Guardar los tokens en un archivo de texto\n",
    "print(\"Tokens guardados en 'TALLER_3.txt'\")"
   ]
  }
 ],
 "metadata": {
  "kernelspec": {
   "display_name": "Python 3",
   "language": "python",
   "name": "python3"
  },
  "language_info": {
   "codemirror_mode": {
    "name": "ipython",
    "version": 3
   },
   "file_extension": ".py",
   "mimetype": "text/x-python",
   "name": "python",
   "nbconvert_exporter": "python",
   "pygments_lexer": "ipython3",
   "version": "3.13.7"
  }
 },
 "nbformat": 4,
 "nbformat_minor": 5
}
