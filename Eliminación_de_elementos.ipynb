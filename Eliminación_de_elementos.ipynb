{
  "cells": [
    {
      "cell_type": "code",
      "execution_count": 1,
      "metadata": {
        "colab": {
          "base_uri": "https://localhost:8080/"
        },
        "id": "bywLsLq8KGoD",
        "outputId": "ea91ae16-dba2-43f3-efb0-8c1da182d8f6"
      },
      "outputs": [
        {
          "name": "stdout",
          "output_type": "stream",
          "text": [
            "Requirement already satisfied: spacy in c:\\users\\acer\\appdata\\local\\programs\\python\\python313\\lib\\site-packages (3.8.7)\n",
            "Requirement already satisfied: spacy-legacy<3.1.0,>=3.0.11 in c:\\users\\acer\\appdata\\local\\programs\\python\\python313\\lib\\site-packages (from spacy) (3.0.12)\n",
            "Requirement already satisfied: spacy-loggers<2.0.0,>=1.0.0 in c:\\users\\acer\\appdata\\local\\programs\\python\\python313\\lib\\site-packages (from spacy) (1.0.5)\n",
            "Requirement already satisfied: murmurhash<1.1.0,>=0.28.0 in c:\\users\\acer\\appdata\\local\\programs\\python\\python313\\lib\\site-packages (from spacy) (1.0.13)\n",
            "Requirement already satisfied: cymem<2.1.0,>=2.0.2 in c:\\users\\acer\\appdata\\local\\programs\\python\\python313\\lib\\site-packages (from spacy) (2.0.11)\n",
            "Requirement already satisfied: preshed<3.1.0,>=3.0.2 in c:\\users\\acer\\appdata\\local\\programs\\python\\python313\\lib\\site-packages (from spacy) (3.0.10)\n",
            "Requirement already satisfied: thinc<8.4.0,>=8.3.4 in c:\\users\\acer\\appdata\\local\\programs\\python\\python313\\lib\\site-packages (from spacy) (8.3.6)\n",
            "Requirement already satisfied: wasabi<1.2.0,>=0.9.1 in c:\\users\\acer\\appdata\\local\\programs\\python\\python313\\lib\\site-packages (from spacy) (1.1.3)\n",
            "Requirement already satisfied: srsly<3.0.0,>=2.4.3 in c:\\users\\acer\\appdata\\local\\programs\\python\\python313\\lib\\site-packages (from spacy) (2.5.1)\n",
            "Requirement already satisfied: catalogue<2.1.0,>=2.0.6 in c:\\users\\acer\\appdata\\local\\programs\\python\\python313\\lib\\site-packages (from spacy) (2.0.10)\n",
            "Requirement already satisfied: weasel<0.5.0,>=0.1.0 in c:\\users\\acer\\appdata\\local\\programs\\python\\python313\\lib\\site-packages (from spacy) (0.4.1)\n",
            "Requirement already satisfied: typer<1.0.0,>=0.3.0 in c:\\users\\acer\\appdata\\local\\programs\\python\\python313\\lib\\site-packages (from spacy) (0.16.0)\n",
            "Requirement already satisfied: tqdm<5.0.0,>=4.38.0 in c:\\users\\acer\\appdata\\local\\programs\\python\\python313\\lib\\site-packages (from spacy) (4.67.1)\n",
            "Requirement already satisfied: numpy>=1.19.0 in c:\\users\\acer\\appdata\\local\\programs\\python\\python313\\lib\\site-packages (from spacy) (2.2.2)\n",
            "Requirement already satisfied: requests<3.0.0,>=2.13.0 in c:\\users\\acer\\appdata\\local\\programs\\python\\python313\\lib\\site-packages (from spacy) (2.32.3)\n",
            "Requirement already satisfied: pydantic!=1.8,!=1.8.1,<3.0.0,>=1.7.4 in c:\\users\\acer\\appdata\\local\\programs\\python\\python313\\lib\\site-packages (from spacy) (2.11.2)\n",
            "Requirement already satisfied: jinja2 in c:\\users\\acer\\appdata\\local\\programs\\python\\python313\\lib\\site-packages (from spacy) (3.1.6)\n",
            "Requirement already satisfied: setuptools in c:\\users\\acer\\appdata\\local\\programs\\python\\python313\\lib\\site-packages (from spacy) (78.1.0)\n",
            "Requirement already satisfied: packaging>=20.0 in c:\\users\\acer\\appdata\\local\\programs\\python\\python313\\lib\\site-packages (from spacy) (24.2)\n",
            "Requirement already satisfied: langcodes<4.0.0,>=3.2.0 in c:\\users\\acer\\appdata\\local\\programs\\python\\python313\\lib\\site-packages (from spacy) (3.5.0)\n",
            "Requirement already satisfied: language-data>=1.2 in c:\\users\\acer\\appdata\\local\\programs\\python\\python313\\lib\\site-packages (from langcodes<4.0.0,>=3.2.0->spacy) (1.3.0)\n",
            "Requirement already satisfied: annotated-types>=0.6.0 in c:\\users\\acer\\appdata\\local\\programs\\python\\python313\\lib\\site-packages (from pydantic!=1.8,!=1.8.1,<3.0.0,>=1.7.4->spacy) (0.7.0)\n",
            "Requirement already satisfied: pydantic-core==2.33.1 in c:\\users\\acer\\appdata\\local\\programs\\python\\python313\\lib\\site-packages (from pydantic!=1.8,!=1.8.1,<3.0.0,>=1.7.4->spacy) (2.33.1)\n",
            "Requirement already satisfied: typing-extensions>=4.12.2 in c:\\users\\acer\\appdata\\local\\programs\\python\\python313\\lib\\site-packages (from pydantic!=1.8,!=1.8.1,<3.0.0,>=1.7.4->spacy) (4.13.0)\n",
            "Requirement already satisfied: typing-inspection>=0.4.0 in c:\\users\\acer\\appdata\\local\\programs\\python\\python313\\lib\\site-packages (from pydantic!=1.8,!=1.8.1,<3.0.0,>=1.7.4->spacy) (0.4.0)\n",
            "Requirement already satisfied: charset-normalizer<4,>=2 in c:\\users\\acer\\appdata\\local\\programs\\python\\python313\\lib\\site-packages (from requests<3.0.0,>=2.13.0->spacy) (3.4.1)\n",
            "Requirement already satisfied: idna<4,>=2.5 in c:\\users\\acer\\appdata\\local\\programs\\python\\python313\\lib\\site-packages (from requests<3.0.0,>=2.13.0->spacy) (3.10)\n",
            "Requirement already satisfied: urllib3<3,>=1.21.1 in c:\\users\\acer\\appdata\\local\\programs\\python\\python313\\lib\\site-packages (from requests<3.0.0,>=2.13.0->spacy) (2.3.0)\n",
            "Requirement already satisfied: certifi>=2017.4.17 in c:\\users\\acer\\appdata\\local\\programs\\python\\python313\\lib\\site-packages (from requests<3.0.0,>=2.13.0->spacy) (2025.1.31)\n",
            "Requirement already satisfied: blis<1.4.0,>=1.3.0 in c:\\users\\acer\\appdata\\local\\programs\\python\\python313\\lib\\site-packages (from thinc<8.4.0,>=8.3.4->spacy) (1.3.0)\n",
            "Requirement already satisfied: confection<1.0.0,>=0.0.1 in c:\\users\\acer\\appdata\\local\\programs\\python\\python313\\lib\\site-packages (from thinc<8.4.0,>=8.3.4->spacy) (0.1.5)\n",
            "Requirement already satisfied: colorama in c:\\users\\acer\\appdata\\local\\programs\\python\\python313\\lib\\site-packages (from tqdm<5.0.0,>=4.38.0->spacy) (0.4.6)\n",
            "Requirement already satisfied: click>=8.0.0 in c:\\users\\acer\\appdata\\local\\programs\\python\\python313\\lib\\site-packages (from typer<1.0.0,>=0.3.0->spacy) (8.1.8)\n",
            "Requirement already satisfied: shellingham>=1.3.0 in c:\\users\\acer\\appdata\\local\\programs\\python\\python313\\lib\\site-packages (from typer<1.0.0,>=0.3.0->spacy) (1.5.4)\n",
            "Requirement already satisfied: rich>=10.11.0 in c:\\users\\acer\\appdata\\local\\programs\\python\\python313\\lib\\site-packages (from typer<1.0.0,>=0.3.0->spacy) (13.9.4)\n",
            "Requirement already satisfied: cloudpathlib<1.0.0,>=0.7.0 in c:\\users\\acer\\appdata\\local\\programs\\python\\python313\\lib\\site-packages (from weasel<0.5.0,>=0.1.0->spacy) (0.21.1)\n",
            "Requirement already satisfied: smart-open<8.0.0,>=5.2.1 in c:\\users\\acer\\appdata\\local\\programs\\python\\python313\\lib\\site-packages (from weasel<0.5.0,>=0.1.0->spacy) (7.3.0.post1)\n",
            "Requirement already satisfied: wrapt in c:\\users\\acer\\appdata\\local\\programs\\python\\python313\\lib\\site-packages (from smart-open<8.0.0,>=5.2.1->weasel<0.5.0,>=0.1.0->spacy) (1.17.2)\n",
            "Requirement already satisfied: marisa-trie>=1.1.0 in c:\\users\\acer\\appdata\\local\\programs\\python\\python313\\lib\\site-packages (from language-data>=1.2->langcodes<4.0.0,>=3.2.0->spacy) (1.3.0)\n",
            "Requirement already satisfied: markdown-it-py>=2.2.0 in c:\\users\\acer\\appdata\\local\\programs\\python\\python313\\lib\\site-packages (from rich>=10.11.0->typer<1.0.0,>=0.3.0->spacy) (3.0.0)\n",
            "Requirement already satisfied: pygments<3.0.0,>=2.13.0 in c:\\users\\acer\\appdata\\local\\programs\\python\\python313\\lib\\site-packages (from rich>=10.11.0->typer<1.0.0,>=0.3.0->spacy) (2.19.1)\n",
            "Requirement already satisfied: mdurl~=0.1 in c:\\users\\acer\\appdata\\local\\programs\\python\\python313\\lib\\site-packages (from markdown-it-py>=2.2.0->rich>=10.11.0->typer<1.0.0,>=0.3.0->spacy) (0.1.2)\n",
            "Requirement already satisfied: MarkupSafe>=2.0 in c:\\users\\acer\\appdata\\local\\programs\\python\\python313\\lib\\site-packages (from jinja2->spacy) (3.0.2)\n",
            "Collecting es-core-news-sm==3.8.0\n",
            "  Downloading https://github.com/explosion/spacy-models/releases/download/es_core_news_sm-3.8.0/es_core_news_sm-3.8.0-py3-none-any.whl (12.9 MB)\n",
            "     ---------------------------------------- 0.0/12.9 MB ? eta -:--:--\n",
            "     ------------------------------ -------- 10.2/12.9 MB 52.6 MB/s eta 0:00:01\n",
            "     ---------------------------------------- 12.9/12.9 MB 47.9 MB/s  0:00:00\n",
            "\u001b[38;5;2m✔ Download and installation successful\u001b[0m\n",
            "You can now load the package via spacy.load('es_core_news_sm')\n",
            "Requirement already satisfied: pdfplumber in c:\\users\\acer\\appdata\\local\\programs\\python\\python313\\lib\\site-packages (0.11.7)\n",
            "Requirement already satisfied: pdfminer.six==20250506 in c:\\users\\acer\\appdata\\local\\programs\\python\\python313\\lib\\site-packages (from pdfplumber) (20250506)\n",
            "Requirement already satisfied: Pillow>=9.1 in c:\\users\\acer\\appdata\\local\\programs\\python\\python313\\lib\\site-packages (from pdfplumber) (11.1.0)\n",
            "Requirement already satisfied: pypdfium2>=4.18.0 in c:\\users\\acer\\appdata\\local\\programs\\python\\python313\\lib\\site-packages (from pdfplumber) (4.30.0)\n",
            "Requirement already satisfied: charset-normalizer>=2.0.0 in c:\\users\\acer\\appdata\\local\\programs\\python\\python313\\lib\\site-packages (from pdfminer.six==20250506->pdfplumber) (3.4.1)\n",
            "Requirement already satisfied: cryptography>=36.0.0 in c:\\users\\acer\\appdata\\local\\programs\\python\\python313\\lib\\site-packages (from pdfminer.six==20250506->pdfplumber) (45.0.6)\n",
            "Requirement already satisfied: cffi>=1.14 in c:\\users\\acer\\appdata\\local\\programs\\python\\python313\\lib\\site-packages (from cryptography>=36.0.0->pdfminer.six==20250506->pdfplumber) (1.17.1)\n",
            "Requirement already satisfied: pycparser in c:\\users\\acer\\appdata\\local\\programs\\python\\python313\\lib\\site-packages (from cffi>=1.14->cryptography>=36.0.0->pdfminer.six==20250506->pdfplumber) (2.22)\n"
          ]
        }
      ],
      "source": [
        "!pip install spacy\n",
        "!python -m spacy download es_core_news_sm\n",
        "!pip install pdfplumber --no-cache-dir"
      ]
    },
    {
      "cell_type": "code",
      "execution_count": 2,
      "metadata": {
        "id": "VX_xx95ZIg7Z"
      },
      "outputs": [],
      "source": [
        "import pdfplumber  # Para extraer texto de PDFs\n",
        "import re  # Para trabajar con expresiones regulares\n",
        "import spacy  # Para procesamiento de lenguaje natural (NLP)\n",
        "import unicodedata  # Para normalizar caracteres Unicode"
      ]
    },
    {
      "cell_type": "code",
      "execution_count": 3,
      "metadata": {
        "id": "PepM8GKQKdNL"
      },
      "outputs": [],
      "source": [
        "nlp = spacy.load(\"es_core_news_sm\")  #cargar el modelo en español"
      ]
    },
    {
      "cell_type": "code",
      "execution_count": 10,
      "metadata": {},
      "outputs": [
        {
          "name": "stdout",
          "output_type": "stream",
          "text": [
            "¡Texto extraído con éxito!\n",
            "MATRICULA NO RENOVADA\n",
            "Actualice su registro y evite sanciones\n",
            "------------------------------------------------------------------------------- \n",
            "Verifique  el  contenido  y  confiabilidad  de  este  certificado,  ingresando a\n",
            "www.camarabaq.org.co/  y digite el código, para que visualice la imagen generada\n",
            "al  momento  de  su  expedición.  La  verificación  se  puede realizar de manera\n",
            "ilimitada,  durante  60  días  calendario  contados  a  partir de la fecha de su\n",
            "expedición.                      \n"
          ]
        }
      ],
      "source": [
        "# Importa la librería fitz, que es el nombre del módulo PyMuPDF\n",
        "import fitz\n",
        "\n",
        "# Usa la misma ruta de tu archivo\n",
        "pdf_path = \"C:/Users/ACER/OneDrive/Documentos/Analitica de datos/1. Maestria/7. NLP/Clase_2/certificado (2).pdf\"\n",
        "texto_pdf = \"\"\n",
        "\n",
        "try:\n",
        "    # Abre el documento PDF con fitz\n",
        "    with fitz.open(pdf_path) as doc:\n",
        "        # Itera sobre cada página del documento\n",
        "        for pagina in doc:\n",
        "            # Extrae el texto de la página y lo añade a la variable\n",
        "            texto_pdf += pagina.get_text()\n",
        "    \n",
        "    # Imprime el texto extraído (o una parte para verificar)\n",
        "    print(\"¡Texto extraído con éxito!\")\n",
        "    print(texto_pdf[:500]) # Imprime los primeros 500 caracteres\n",
        "\n",
        "except Exception as e:\n",
        "    # Si ocurre un error, imprímelo para saber qué pasó\n",
        "    print(f\"No se pudo leer el PDF. El archivo podría estar dañado o no ser un PDF válido.\")\n",
        "    print(f\"Error original: {e}\")"
      ]
    },
    {
      "cell_type": "code",
      "execution_count": 13,
      "metadata": {
        "id": "N2UHoLX7Kus_"
      },
      "outputs": [],
      "source": [
        "pdf_path = \"C:/Users/ACER/OneDrive/Documentos/Analitica de datos/1. Maestria/7. NLP/Clase_2/certificado (2).pdf\"\n",
        "# Extraer texto del PDF\n",
        "with pdfplumber.open(pdf_path) as pdf:\n",
        "    texto_pdf = \"\"\n",
        "    for pagina in pdf.pages:\n",
        "        texto_pdf += pagina.extract_text()"
      ]
    },
    {
      "cell_type": "code",
      "execution_count": 14,
      "metadata": {
        "id": "GGUNWSepKxsf"
      },
      "outputs": [],
      "source": [
        "header_pattern = r\"Cámara de Comercio de Barranquilla\\s*CERTIFICADO DE EXISTENCIA Y REPRESENTACION LEGAL O\\s*DE INSCRIPCION DE DOCUMENTOS\\.\\s*Fecha de expedición:.*?\\nRecibo No\\..*?\\nCODIGO DE VERIFICACIÓN:.*?\\n\""
      ]
    },
    {
      "cell_type": "code",
      "execution_count": 15,
      "metadata": {
        "id": "-8e9_kfJK0vJ"
      },
      "outputs": [],
      "source": [
        "def extract_text_without_header(pdf_path):\n",
        "    extracted_text = []  # Lista donde almacenaremos el texto de cada página\n",
        "\n",
        "    with pdfplumber.open(pdf_path) as pdf:  # Abrir el archivo PDF\n",
        "        for page in pdf.pages:  # Iterar por cada página del PDF\n",
        "            text = page.extract_text()  # Extraer texto de la página\n",
        "            if text:  # Verificar si hay texto en la página\n",
        "                text = re.sub(header_pattern, \"\", text, flags=re.DOTALL)  # Eliminar encabezado con regex\n",
        "                extracted_text.append(text)  # Guardar el texto limpio en la lista\n",
        "\n",
        "    return \" \".join(extracted_text)  # Unir todas las páginas en un solo texto"
      ]
    },
    {
      "cell_type": "code",
      "execution_count": 16,
      "metadata": {
        "id": "vIVD4QjKK5Jp"
      },
      "outputs": [],
      "source": [
        "def preprocess_text(text):\n",
        "    text = unicodedata.normalize(\"NFKD\", text)  # Normalizar caracteres Unicode (ej. á → a)\n",
        "\n",
        "    doc = nlp(text.lower())  # Convertir todo el texto a minúsculas y procesarlo con spaCy\n",
        "\n",
        "    tokens = [token.text for token in doc if token.is_alpha and not token.is_stop]\n",
        "    return tokens"
      ]
    },
    {
      "cell_type": "code",
      "execution_count": 17,
      "metadata": {
        "colab": {
          "base_uri": "https://localhost:8080/"
        },
        "id": "qJGPMe_KK9pZ",
        "outputId": "6841912d-e429-4f06-9109-6b9946862d1a"
      },
      "outputs": [
        {
          "name": "stdout",
          "output_type": "stream",
          "text": [
            "['verifique', 'contenido', 'confiabilidad', 'certificado', 'ingresando', 'digite', 'visualice', 'imagen', 'generada', 'momento', 'ilimitada', 'calendario', 'contados', 'fecha', 'atencion', 'comerciante', 'cumplido', 'deber', 'legal', 'renovar', 'matricula', 'mercantil', 'd', 's', 'matricula', 'mercantil', 'proporciona', 'seguridad', 'confianza', 'ean', 'n', 'renueve', 'matricula', 'mercantil', 'tardar', 'marzo', 'v', 'i', 'c', 'n', 'n', 's', 'fundamento', 'inscrripciones', 'efectu', 'adas', 'registro', 'mercantil', 'comercio', 'certiefica']\n"
          ]
        }
      ],
      "source": [
        "raw_text = extract_text_without_header(pdf_path)  # Extraer texto limpio del PDF\n",
        "tokens = preprocess_text(raw_text)  # Preprocesar el texto con spaCy\n",
        "\n",
        "print(tokens[:50])  # Mostrar los primeros 50 tokens como prueba"
      ]
    },
    {
      "cell_type": "code",
      "execution_count": 19,
      "metadata": {
        "id": "fCi7wKkbLErR"
      },
      "outputs": [
        {
          "name": "stdout",
          "output_type": "stream",
          "text": [
            "Tokens guardados en 'certificado_limpio.txt'\n"
          ]
        }
      ],
      "source": [
        "with open(\"certificado_limpio.txt\", \"w\", encoding=\"utf-8\") as f:\n",
        "    f.write(\" \".join(tokens))  # Guardar los tokens en un archivo de texto\n",
        "print(\"Tokens guardados en 'certificado_limpio.txt'\")"
      ]
    },
    {
      "cell_type": "markdown",
      "metadata": {},
      "source": []
    },
    {
      "cell_type": "code",
      "execution_count": 21,
      "metadata": {},
      "outputs": [
        {
          "name": "stdout",
          "output_type": "stream",
          "text": [
            "-------------------------------------------------------------------------------\n",
            "Verifique el contenido y confiabilidad de este certificado, ingresando a\n",
            "www.camarabaq.org.co/ y digite el código, para que visualice la imagen generada\n",
            "al momento de su expedición. La verificación se puede realizar de manera\n",
            "ilimitada, durante 60 días calendario contados a partir de la fecha de su\n",
            "expedición.\n",
            "--------------------------------------------------------------------------------\n",
            "***************************\n"
          ]
        }
      ],
      "source": [
        "texto_sin_encabezados = re.sub(header_pattern, \"\", texto_pdf, flags=re.DOTALL)\n",
        "print(texto_sin_encabezados[:500])  # Mostrar los primeros 500 caracteres como prueba"
      ]
    },
    {
      "cell_type": "markdown",
      "metadata": {},
      "source": [
        "# Existen varias formas de eliminar encabezados de documentos, dependiendo del tipo de archivo y el contexto de aplicación:\n",
        "\n",
        "# 1. Para documentos PDF, Librerías principales:\n",
        "# •\tPyPDF2 (Python)\n",
        "# •\tpdf-lib (JavaScript)\n",
        "# •\tiText (Java)\n",
        "# •\tPDFBox (Java)\n",
        "# 2. Para documentos Word\n",
        "# Librerías:\n",
        "# •\tpython-docx (Python)\n",
        "# •\tApache POI (Java)\n",
        "# •\tDocX (JavaScript/Node.js)\n",
        "# 3. Para documentos HTML\n",
        "# Librerías:\n",
        "# •\tBeautifulSoup (Python)\n",
        "# •\tjsdom/cheerio (JavaScript)\n",
        "# •\tDOMDocument (PHP)\n",
        "# 4. Para procesamiento general de texto\n",
        "# Librerías:\n",
        "# •\tregex (expresiones regulares en múltiples lenguajes)\n",
        "# •\tApache Tika (detección y extracción de contenido)\n",
        "\n"
      ]
    }
  ],
  "metadata": {
    "colab": {
      "provenance": []
    },
    "kernelspec": {
      "display_name": "Python 3",
      "name": "python3"
    },
    "language_info": {
      "codemirror_mode": {
        "name": "ipython",
        "version": 3
      },
      "file_extension": ".py",
      "mimetype": "text/x-python",
      "name": "python",
      "nbconvert_exporter": "python",
      "pygments_lexer": "ipython3",
      "version": "3.13.7"
    }
  },
  "nbformat": 4,
  "nbformat_minor": 0
}
